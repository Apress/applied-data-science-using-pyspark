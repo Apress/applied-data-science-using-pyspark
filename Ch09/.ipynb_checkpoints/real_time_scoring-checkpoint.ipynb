{
 "cells": [
  {
   "cell_type": "code",
   "execution_count": 1,
   "metadata": {},
   "outputs": [],
   "source": [
    "from pyspark.sql import SparkSession\n",
    "from pyspark import SparkConf\n",
    "conf = SparkConf()\n",
    "conf.set(\"spark.driver.allowMultipleContexts\", \"true\")\n",
    "\n",
    "filename = 'bank-full.csv'\n",
    "spark = SparkSession.builder.master('local').appName(\"real_time_scoring_api\").config(conf=conf).getOrCreate()\n",
    "score_data = spark.read.csv(filename, header=True, inferSchema=True, sep=';')"
   ]
  },
  {
   "cell_type": "code",
   "execution_count": 7,
   "metadata": {},
   "outputs": [],
   "source": [
    "sc = spark.sparkContext"
   ]
  },
  {
   "cell_type": "code",
   "execution_count": 2,
   "metadata": {},
   "outputs": [
    {
     "data": {
      "text/plain": [
       "[('spark.master', 'local'),\n",
       " ('spark.app.id', 'local-1598348121568'),\n",
       " ('spark.driver.port', '40297'),\n",
       " ('spark.rdd.compress', 'True'),\n",
       " ('spark.driver.allowMultipleContexts', 'true'),\n",
       " ('spark.app.name', 'real_time_scoring_api'),\n",
       " ('spark.serializer.objectStreamReset', '100'),\n",
       " ('spark.executor.id', 'driver'),\n",
       " ('spark.submit.deployMode', 'client'),\n",
       " ('spark.driver.host', '4d1fc5668b88'),\n",
       " ('spark.ui.showConsoleProgress', 'true')]"
      ]
     },
     "execution_count": 2,
     "metadata": {},
     "output_type": "execute_result"
    }
   ],
   "source": [
    "spark.sparkContext.getConf().getAll()"
   ]
  },
  {
   "cell_type": "code",
   "execution_count": 3,
   "metadata": {},
   "outputs": [],
   "source": [
    "input_x = score_data.toJSON().first()"
   ]
  },
  {
   "cell_type": "code",
   "execution_count": 4,
   "metadata": {},
   "outputs": [],
   "source": [
    "final_list = []\n",
    "if type(input_x) == str:\n",
    "    final_list.append(input_x)\n",
    "else:\n",
    "    final_list.extend(input_x)"
   ]
  },
  {
   "cell_type": "code",
   "execution_count": 5,
   "metadata": {},
   "outputs": [
    {
     "data": {
      "text/plain": [
       "['{\"age\":58,\"job\":\"management\",\"marital\":\"married\",\"education\":\"tertiary\",\"default\":\"no\",\"balance\":2143,\"housing\":\"yes\",\"loan\":\"no\",\"contact\":\"unknown\",\"day\":5,\"month\":\"may\",\"duration\":261,\"campaign\":1,\"pdays\":-1,\"previous\":0,\"poutcome\":\"unknown\",\"y\":\"no\"}']"
      ]
     },
     "execution_count": 5,
     "metadata": {},
     "output_type": "execute_result"
    }
   ],
   "source": [
    "final_list"
   ]
  },
  {
   "cell_type": "code",
   "execution_count": null,
   "metadata": {},
   "outputs": [],
   "source": [
    "score_data"
   ]
  },
  {
   "cell_type": "code",
   "execution_count": 8,
   "metadata": {},
   "outputs": [],
   "source": [
    "df = spark.read.json(sc.parallelize(final_list))"
   ]
  },
  {
   "cell_type": "code",
   "execution_count": 9,
   "metadata": {},
   "outputs": [
    {
     "name": "stdout",
     "output_type": "stream",
     "text": [
      "+---+-------+--------+-------+---+-------+--------+---------+-------+----------+----+-------+-----+-----+--------+--------+---+\n",
      "|age|balance|campaign|contact|day|default|duration|education|housing|       job|loan|marital|month|pdays|poutcome|previous|  y|\n",
      "+---+-------+--------+-------+---+-------+--------+---------+-------+----------+----+-------+-----+-----+--------+--------+---+\n",
      "| 58|   2143|       1|unknown|  5|     no|     261| tertiary|    yes|management|  no|married|  may|   -1| unknown|       0| no|\n",
      "+---+-------+--------+-------+---+-------+--------+---------+-------+----------+----+-------+-----+-----+--------+--------+---+\n",
      "\n"
     ]
    }
   ],
   "source": [
    "df.show()"
   ]
  },
  {
   "cell_type": "code",
   "execution_count": 10,
   "metadata": {},
   "outputs": [],
   "source": [
    "from helper import *"
   ]
  },
  {
   "cell_type": "code",
   "execution_count": 11,
   "metadata": {},
   "outputs": [],
   "source": [
    "final_scores_df = score_new_df(df)\n",
    "pred = final_scores_df.toPandas()\n",
    "final_pred = pred.to_dict(orient='rows')[0]"
   ]
  },
  {
   "cell_type": "code",
   "execution_count": null,
   "metadata": {},
   "outputs": [],
   "source": [
    "%%timeit\n",
    "final_scores_df = score_new_df(df)\n",
    "final_scores_df.toJSON().first()"
   ]
  },
  {
   "cell_type": "code",
   "execution_count": 12,
   "metadata": {},
   "outputs": [],
   "source": [
    "from pyspark.ml.classification import RandomForestClassifier"
   ]
  },
  {
   "cell_type": "code",
   "execution_count": null,
   "metadata": {},
   "outputs": [],
   "source": [
    "RandomForestClassifier.load(sc)"
   ]
  },
  {
   "cell_type": "code",
   "execution_count": 13,
   "metadata": {},
   "outputs": [],
   "source": [
    "from pyspark import SparkContext"
   ]
  },
  {
   "cell_type": "code",
   "execution_count": 5,
   "metadata": {},
   "outputs": [
    {
     "data": {
      "text/plain": [
       "<posix.ScandirIterator at 0x7fbdb4e497a0>"
      ]
     },
     "execution_count": 5,
     "metadata": {},
     "output_type": "execute_result"
    }
   ],
   "source": [
    "import os\n",
    "os.scandir('real_time_scoring/')"
   ]
  },
  {
   "cell_type": "code",
   "execution_count": 7,
   "metadata": {},
   "outputs": [],
   "source": [
    "import os\n",
    "\n",
    "def list_files(startpath = 'real_time_scoring/'):\n",
    "    for root, dirs, files in os.walk(startpath):\n",
    "        level = root.replace(startpath, '').count(os.sep)\n",
    "        indent = ' ' * 4 * (level)\n",
    "        print('{}{}/'.format(indent, os.path.basename(root)))\n",
    "        subindent = ' ' * 4 * (level + 1)\n",
    "        for f in files:\n",
    "            print('{}{}'.format(subindent, f))"
   ]
  },
  {
   "cell_type": "code",
   "execution_count": 8,
   "metadata": {},
   "outputs": [
    {
     "name": "stdout",
     "output_type": "stream",
     "text": [
      "/\n",
      "pysparkapi/\n",
      "    run.py\n",
      "    score_data.csv\n",
      "    .DS_Store\n",
      "    requirements.txt\n",
      "    Dockerfile\n",
      "    file.pkl\n",
      "    helper.py\n",
      "    app.py\n",
      "    char_label_model.h5/\n",
      "        stages/\n",
      "            3_StringIndexer_3aafa9b271ff/\n",
      "                data/\n",
      "                    .part-00000-1163b4eb-494b-4804-b8f3-64ed69a30376-c000.snappy.parquet.crc\n",
      "                    _SUCCESS\n",
      "                    part-00000-1163b4eb-494b-4804-b8f3-64ed69a30376-c000.snappy.parquet\n",
      "                metadata/\n",
      "                    .part-00000.crc\n",
      "                    _SUCCESS\n",
      "                    part-00000\n",
      "            4_StringIndexer_a4fbc082da13/\n",
      "                data/\n",
      "                    part-00000-696e7bdc-afbc-415d-a6d5-a47672652827-c000.snappy.parquet\n",
      "                    .part-00000-696e7bdc-afbc-415d-a6d5-a47672652827-c000.snappy.parquet.crc\n",
      "                    _SUCCESS\n",
      "                metadata/\n",
      "                    .part-00000.crc\n",
      "                    _SUCCESS\n",
      "                    part-00000\n",
      "            6_StringIndexer_4331b36c95bf/\n",
      "                data/\n",
      "                    part-00000-063a1490-8a13-4e3c-9443-0af4f384f748-c000.snappy.parquet\n",
      "                    .part-00000-063a1490-8a13-4e3c-9443-0af4f384f748-c000.snappy.parquet.crc\n",
      "                    _SUCCESS\n",
      "                metadata/\n",
      "                    .part-00000.crc\n",
      "                    _SUCCESS\n",
      "                    part-00000\n",
      "            2_StringIndexer_5542081e037c/\n",
      "                data/\n",
      "                    .part-00000-d1155589-efa1-4858-be05-1ddd39d039c6-c000.snappy.parquet.crc\n",
      "                    part-00000-d1155589-efa1-4858-be05-1ddd39d039c6-c000.snappy.parquet\n",
      "                    _SUCCESS\n",
      "                metadata/\n",
      "                    .part-00000.crc\n",
      "                    _SUCCESS\n",
      "                    part-00000\n",
      "            7_StringIndexer_594ffb084aa1/\n",
      "                data/\n",
      "                    .part-00000-71f00187-20af-44dd-95c0-520d7d3ef511-c000.snappy.parquet.crc\n",
      "                    part-00000-71f00187-20af-44dd-95c0-520d7d3ef511-c000.snappy.parquet\n",
      "                    _SUCCESS\n",
      "                metadata/\n",
      "                    .part-00000.crc\n",
      "                    _SUCCESS\n",
      "                    part-00000\n",
      "            8_StringIndexer_cdd6ca5637a4/\n",
      "                data/\n",
      "                    part-00000-285d6f6d-7d05-40ff-9691-bce06bcc1310-c000.snappy.parquet\n",
      "                    .part-00000-285d6f6d-7d05-40ff-9691-bce06bcc1310-c000.snappy.parquet.crc\n",
      "                    _SUCCESS\n",
      "                metadata/\n",
      "                    .part-00000.crc\n",
      "                    _SUCCESS\n",
      "                    part-00000\n",
      "            5_StringIndexer_732ca289e4b5/\n",
      "                data/\n",
      "                    part-00000-76bb920a-9150-4b66-9f02-86dbf95c2a14-c000.snappy.parquet\n",
      "                    _SUCCESS\n",
      "                    .part-00000-76bb920a-9150-4b66-9f02-86dbf95c2a14-c000.snappy.parquet.crc\n",
      "                metadata/\n",
      "                    .part-00000.crc\n",
      "                    _SUCCESS\n",
      "                    part-00000\n",
      "            0_StringIndexer_713467ceea17/\n",
      "                data/\n",
      "                    .part-00000-11229573-cec7-4390-8257-687aa815102b-c000.snappy.parquet.crc\n",
      "                    _SUCCESS\n",
      "                    part-00000-11229573-cec7-4390-8257-687aa815102b-c000.snappy.parquet\n",
      "                metadata/\n",
      "                    .part-00000.crc\n",
      "                    _SUCCESS\n",
      "                    part-00000\n",
      "            1_StringIndexer_dbe72a68b668/\n",
      "                data/\n",
      "                    part-00000-dd7e765a-ef14-4582-8c1a-4ae22486f460-c000.snappy.parquet\n",
      "                    .part-00000-dd7e765a-ef14-4582-8c1a-4ae22486f460-c000.snappy.parquet.crc\n",
      "                    _SUCCESS\n",
      "                metadata/\n",
      "                    .part-00000.crc\n",
      "                    _SUCCESS\n",
      "                    part-00000\n",
      "        metadata/\n",
      "            .part-00000.crc\n",
      "            _SUCCESS\n",
      "            part-00000\n",
      "    assembleModel.h5/\n",
      "        stages/\n",
      "            0_VectorAssembler_1666c9f6ebc1/\n",
      "                metadata/\n",
      "                    .part-00000.crc\n",
      "                    _SUCCESS\n",
      "                    part-00000\n",
      "        metadata/\n",
      "            .part-00000.crc\n",
      "            _SUCCESS\n",
      "            part-00000\n",
      "    clf_model.h5/\n",
      "        treesMetadata/\n",
      "            part-00000-7dd534b9-0c7a-47de-a9cf-f3dba7adb09f-c000.snappy.parquet\n",
      "            .part-00002-7dd534b9-0c7a-47de-a9cf-f3dba7adb09f-c000.snappy.parquet.crc\n",
      "            .part-00001-7dd534b9-0c7a-47de-a9cf-f3dba7adb09f-c000.snappy.parquet.crc\n",
      "            part-00001-7dd534b9-0c7a-47de-a9cf-f3dba7adb09f-c000.snappy.parquet\n",
      "            part-00003-7dd534b9-0c7a-47de-a9cf-f3dba7adb09f-c000.snappy.parquet\n",
      "            _SUCCESS\n",
      "            part-00002-7dd534b9-0c7a-47de-a9cf-f3dba7adb09f-c000.snappy.parquet\n",
      "            .part-00003-7dd534b9-0c7a-47de-a9cf-f3dba7adb09f-c000.snappy.parquet.crc\n",
      "            .part-00000-7dd534b9-0c7a-47de-a9cf-f3dba7adb09f-c000.snappy.parquet.crc\n",
      "        data/\n",
      "            part-00001-37000be6-19e5-4d08-ac11-4a7881e445f9-c000.snappy.parquet\n",
      "            .part-00001-37000be6-19e5-4d08-ac11-4a7881e445f9-c000.snappy.parquet.crc\n",
      "            .part-00002-37000be6-19e5-4d08-ac11-4a7881e445f9-c000.snappy.parquet.crc\n",
      "            part-00000-37000be6-19e5-4d08-ac11-4a7881e445f9-c000.snappy.parquet\n",
      "            .part-00000-37000be6-19e5-4d08-ac11-4a7881e445f9-c000.snappy.parquet.crc\n",
      "            .part-00003-37000be6-19e5-4d08-ac11-4a7881e445f9-c000.snappy.parquet.crc\n",
      "            part-00002-37000be6-19e5-4d08-ac11-4a7881e445f9-c000.snappy.parquet\n",
      "            _SUCCESS\n",
      "            part-00003-37000be6-19e5-4d08-ac11-4a7881e445f9-c000.snappy.parquet\n",
      "        metadata/\n",
      "            .part-00000.crc\n",
      "            _SUCCESS\n",
      "            part-00000\n",
      "streamlitapi/\n"
     ]
    }
   ],
   "source": [
    "list_files()"
   ]
  }
 ],
 "metadata": {
  "kernelspec": {
   "display_name": "Python 3",
   "language": "python",
   "name": "python3"
  },
  "language_info": {
   "codemirror_mode": {
    "name": "ipython",
    "version": 3
   },
   "file_extension": ".py",
   "mimetype": "text/x-python",
   "name": "python",
   "nbconvert_exporter": "python",
   "pygments_lexer": "ipython3",
   "version": "3.7.6"
  }
 },
 "nbformat": 4,
 "nbformat_minor": 4
}
