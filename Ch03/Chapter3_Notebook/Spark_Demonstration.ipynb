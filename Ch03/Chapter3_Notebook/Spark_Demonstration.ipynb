{
 "cells": [
  {
   "cell_type": "markdown",
   "metadata": {},
   "source": [
    "# Data Manipulations in PySpark"
   ]
  },
  {
   "cell_type": "markdown",
   "metadata": {},
   "source": [
    "# Chapter 2 Demonstrations"
   ]
  },
  {
   "cell_type": "code",
   "execution_count": 1,
   "metadata": {},
   "outputs": [],
   "source": [
    "# Import Sparksession\n",
    "from pyspark.sql import SparkSession\n",
    "spark=SparkSession.builder.appName(\"Data_Wrangling\").getOrCreate()"
   ]
  },
  {
   "cell_type": "code",
   "execution_count": 2,
   "metadata": {},
   "outputs": [
    {
     "name": "stdout",
     "output_type": "stream",
     "text": [
      "Python version: 3.8.3 | packaged by conda-forge | (default, Jun  1 2020, 17:43:00) \n",
      "[GCC 7.5.0]\n",
      "Spark version: 3.0.0\n"
     ]
    }
   ],
   "source": [
    "# Print PySpark and Python versions\n",
    "import sys\n",
    "print('Python version: '+sys.version)\n",
    "print('Spark version: '+spark.version)"
   ]
  },
  {
   "cell_type": "code",
   "execution_count": 3,
   "metadata": {},
   "outputs": [],
   "source": [
    "# Read data\n",
    "file_location = \"movie_data_part1.csv\"\n",
    "file_type = \"csv\"\n",
    "infer_schema = \"false\"\n",
    "first_row_is_header = \"true\"\n",
    "delimiter = \"|\"\n",
    "\n",
    "df = spark.read.format(file_type)\\\n",
    ".option(\"inferSchema\", infer_schema)\\\n",
    ".option(\"header\", first_row_is_header)\\\n",
    ".option(\"sep\", delimiter)\\\n",
    ".load(file_location)\n"
   ]
  },
  {
   "cell_type": "code",
   "execution_count": 4,
   "metadata": {},
   "outputs": [
    {
     "name": "stdout",
     "output_type": "stream",
     "text": [
      "root\n",
      " |-- belongs_to_collection: string (nullable = true)\n",
      " |-- budget: string (nullable = true)\n",
      " |-- id: string (nullable = true)\n",
      " |-- original_language: string (nullable = true)\n",
      " |-- original_title: string (nullable = true)\n",
      " |-- overview: string (nullable = true)\n",
      " |-- popularity: string (nullable = true)\n",
      " |-- production_companies: string (nullable = true)\n",
      " |-- production_countries: string (nullable = true)\n",
      " |-- release_date: string (nullable = true)\n",
      " |-- revenue: string (nullable = true)\n",
      " |-- runtime: string (nullable = true)\n",
      " |-- status: string (nullable = true)\n",
      " |-- tagline: string (nullable = true)\n",
      " |-- title: string (nullable = true)\n",
      " |-- vote_average: string (nullable = true)\n",
      "\n"
     ]
    }
   ],
   "source": [
    "# Print Metadata\n",
    "df.printSchema()"
   ]
  },
  {
   "cell_type": "code",
   "execution_count": 5,
   "metadata": {},
   "outputs": [
    {
     "data": {
      "text/plain": [
       "[('belongs_to_collection', 'string'),\n",
       " ('budget', 'string'),\n",
       " ('id', 'string'),\n",
       " ('original_language', 'string'),\n",
       " ('original_title', 'string'),\n",
       " ('overview', 'string'),\n",
       " ('popularity', 'string'),\n",
       " ('production_companies', 'string'),\n",
       " ('production_countries', 'string'),\n",
       " ('release_date', 'string'),\n",
       " ('revenue', 'string'),\n",
       " ('runtime', 'string'),\n",
       " ('status', 'string'),\n",
       " ('tagline', 'string'),\n",
       " ('title', 'string'),\n",
       " ('vote_average', 'string')]"
      ]
     },
     "execution_count": 5,
     "metadata": {},
     "output_type": "execute_result"
    }
   ],
   "source": [
    "# Print Metadata - 2nd method\n",
    "df.dtypes"
   ]
  },
  {
   "cell_type": "code",
   "execution_count": 6,
   "metadata": {},
   "outputs": [
    {
     "name": "stdout",
     "output_type": "stream",
     "text": [
      "The total number of records in the movie dataset are 43998\n"
     ]
    }
   ],
   "source": [
    "#  Count data\n",
    "df.count()\n",
    "print('The total number of records in the movie dataset are '+str(df.count()))"
   ]
  },
  {
   "cell_type": "code",
   "execution_count": 7,
   "metadata": {},
   "outputs": [],
   "source": [
    "#  Drop Columns\n",
    "drop_columns_list=[\"overview\",\"belongs_to_collection\",\"production_companies\",\"production_countries\",\"status\",\"original_title\"]\n",
    "df1=df.drop(*drop_columns_list)"
   ]
  },
  {
   "cell_type": "code",
   "execution_count": 8,
   "metadata": {},
   "outputs": [
    {
     "name": "stdout",
     "output_type": "stream",
     "text": [
      "+-----+-------+------------------+------------+-------+--------------------+\n",
      "|   id| budget|        popularity|release_date|revenue|               title|\n",
      "+-----+-------+------------------+------------+-------+--------------------+\n",
      "|43000|      0|             2.503|  1962-05-23|      0|The Elusive Corporal|\n",
      "|43001|      0|              5.51|  1962-11-12|      0|  Sundays and Cybele|\n",
      "|43002|      0|              5.62|  1962-05-24|      0|Lonely Are the Brave|\n",
      "|43003|      0|             7.159|  1975-03-12|      0|          F for Fake|\n",
      "|43004| 500000|             3.988|  1962-10-09|      0|Long Day's Journe...|\n",
      "|43006|      0|             3.194|  1962-03-09|      0|           My Geisha|\n",
      "|43007|      0|             2.689|  1962-10-31|      0|Period of Adjustment|\n",
      "|43008|      0|             6.537|  1959-03-13|      0|    The Hanging Tree|\n",
      "|43010|      0|             4.297|  1962-01-01|      0|Sherlock Holmes a...|\n",
      "|43011|      0|             4.417|  1962-01-01|      0|  Sodom and Gomorrah|\n",
      "|43012|7000000|4.7219999999999995|  1962-11-21|4000000|         Taras Bulba|\n",
      "|43013|      0|             2.543|  1962-04-17|      0|The Counterfeit T...|\n",
      "|43014|      0|             4.303|  1962-10-24|      0|     Tower of London|\n",
      "|43015|      0|             3.493|  1962-12-07|      0|Varan the Unbelie...|\n",
      "|43016|      0|             2.851|  1962-01-01|      0|Waltz of the Tore...|\n",
      "|43017|      0|             4.047|  1961-10-11|      0|         Back Street|\n",
      "|43018|      0|             2.661|  1961-06-02|      0|Gidget Goes Hawaiian|\n",
      "|43019|      0|             3.225|  2010-05-28|      0|Schuks Tshabalala...|\n",
      "|43020|      0|              5.72|  1961-06-15|      0|The Colossus of R...|\n",
      "|43021|      0|             3.292|  2008-08-22|      0|          Sex Galaxy|\n",
      "+-----+-------+------------------+------------+-------+--------------------+\n",
      "only showing top 20 rows\n",
      "\n"
     ]
    }
   ],
   "source": [
    "# Subsetting Columns\n",
    "select_columns=['id','budget','popularity','release_date','revenue','title']\n",
    "df=df.select(*select_columns)\n",
    "df.show()"
   ]
  },
  {
   "cell_type": "code",
   "execution_count": 9,
   "metadata": {},
   "outputs": [
    {
     "name": "stdout",
     "output_type": "stream",
     "text": [
      "+-----+-------+------------------+------------+-------+--------------------+\n",
      "|   id| budget|        popularity|release_date|revenue|               title|\n",
      "+-----+-------+------------------+------------+-------+--------------------+\n",
      "|43000|      0|             2.503|  1962-05-23|      0|The Elusive Corporal|\n",
      "|43001|      0|              5.51|  1962-11-12|      0|  Sundays and Cybele|\n",
      "|43002|      0|              5.62|  1962-05-24|      0|Lonely Are the Brave|\n",
      "|43003|      0|             7.159|  1975-03-12|      0|          F for Fake|\n",
      "|43004| 500000|             3.988|  1962-10-09|      0|Long Day's Journe...|\n",
      "|43006|      0|             3.194|  1962-03-09|      0|           My Geisha|\n",
      "|43007|      0|             2.689|  1962-10-31|      0|Period of Adjustment|\n",
      "|43008|      0|             6.537|  1959-03-13|      0|    The Hanging Tree|\n",
      "|43010|      0|             4.297|  1962-01-01|      0|Sherlock Holmes a...|\n",
      "|43011|      0|             4.417|  1962-01-01|      0|  Sodom and Gomorrah|\n",
      "|43012|7000000|4.7219999999999995|  1962-11-21|4000000|         Taras Bulba|\n",
      "|43013|      0|             2.543|  1962-04-17|      0|The Counterfeit T...|\n",
      "|43014|      0|             4.303|  1962-10-24|      0|     Tower of London|\n",
      "|43015|      0|             3.493|  1962-12-07|      0|Varan the Unbelie...|\n",
      "|43016|      0|             2.851|  1962-01-01|      0|Waltz of the Tore...|\n",
      "|43017|      0|             4.047|  1961-10-11|      0|         Back Street|\n",
      "|43018|      0|             2.661|  1961-06-02|      0|Gidget Goes Hawaiian|\n",
      "|43019|      0|             3.225|  2010-05-28|      0|Schuks Tshabalala...|\n",
      "|43020|      0|              5.72|  1961-06-15|      0|The Colossus of R...|\n",
      "|43021|      0|             3.292|  2008-08-22|      0|          Sex Galaxy|\n",
      "+-----+-------+------------------+------------+-------+--------------------+\n",
      "only showing top 20 rows\n",
      "\n"
     ]
    }
   ],
   "source": [
    "# Subsetting Columns\n",
    "df = spark.read.format(file_type)\\\n",
    ".option(\"inferSchema\", infer_schema)\\\n",
    ".option(\"header\", first_row_is_header)\\\n",
    ".option(\"sep\", delimiter)\\\n",
    ".load(file_location)\n",
    "df=df.select(df[2],df[1],df[6],df[9],df[10],df[14])\n",
    "df.show()"
   ]
  },
  {
   "cell_type": "code",
   "execution_count": 10,
   "metadata": {},
   "outputs": [
    {
     "data": {
      "text/plain": [
       "215"
      ]
     },
     "execution_count": 10,
     "metadata": {},
     "output_type": "execute_result"
    }
   ],
   "source": [
    "# Identifying missing values\n",
    "from pyspark.sql.functions import *\n",
    "df.filter((df['popularity']=='')|df['popularity'].isNull()|isnan(df['popularity'])).count()"
   ]
  },
  {
   "cell_type": "code",
   "execution_count": 11,
   "metadata": {},
   "outputs": [
    {
     "name": "stdout",
     "output_type": "stream",
     "text": [
      "+---+------+----------+------------+-------+-----+\n",
      "| id|budget|popularity|release_date|revenue|title|\n",
      "+---+------+----------+------------+-------+-----+\n",
      "|125|   125|       215|         221|    215|  304|\n",
      "+---+------+----------+------------+-------+-----+\n",
      "\n"
     ]
    }
   ],
   "source": [
    "# Identifying missing values\n",
    "df.select([count(when((col(c)=='') | col(c).isNull() |isnan(c), c)).alias(c) for c in df.columns]).show()"
   ]
  },
  {
   "cell_type": "code",
   "execution_count": 12,
   "metadata": {},
   "outputs": [
    {
     "name": "stdout",
     "output_type": "stream",
     "text": [
      "+--------------------+-----+\n",
      "|               title|count|\n",
      "+--------------------+-----+\n",
      "|   The Corn Is Green|    1|\n",
      "|Meet The Browns -...|    1|\n",
      "|Morenita, El Esca...|    1|\n",
      "| Father Takes a Wife|    1|\n",
      "|The Werewolf of W...|    1|\n",
      "|My Wife Is a Gang...|    1|\n",
      "|Depeche Mode: Tou...|    1|\n",
      "|  A Woman Is a Woman|    1|\n",
      "|History Is Made a...|    1|\n",
      "|      Colombian Love|    1|\n",
      "|        Ace Attorney|    1|\n",
      "|     Not Like Others|    1|\n",
      "|40 Guns to Apache...|    1|\n",
      "|          Middle Men|    1|\n",
      "|         It's a Gift|    1|\n",
      "|    La Vie de Bohème|    1|\n",
      "|Rasputin: The Mad...|    1|\n",
      "|The Ballad of Jac...|    1|\n",
      "|         How to Deal|    1|\n",
      "|             Freaked|    1|\n",
      "+--------------------+-----+\n",
      "only showing top 20 rows\n",
      "\n"
     ]
    }
   ],
   "source": [
    "# One way Frequencies\n",
    "df.groupBy(df['title']).count().show()"
   ]
  },
  {
   "cell_type": "code",
   "execution_count": 13,
   "metadata": {},
   "outputs": [
    {
     "name": "stdout",
     "output_type": "stream",
     "text": [
      "+--------------------+-----+\n",
      "|title               |count|\n",
      "+--------------------+-----+\n",
      "|null                |304  |\n",
      "|Les Misérables      |8    |\n",
      "|Cinderella          |8    |\n",
      "|The Three Musketeers|8    |\n",
      "|Hamlet              |7    |\n",
      "|Dracula             |7    |\n",
      "|A Christmas Carol   |7    |\n",
      "|The Island          |7    |\n",
      "|Frankenstein        |7    |\n",
      "|Borderline          |6    |\n",
      "+--------------------+-----+\n",
      "only showing top 10 rows\n",
      "\n"
     ]
    }
   ],
   "source": [
    "#Frequencies - descending order\n",
    "df.groupby(df['title']).count().sort(desc(\"count\")).show(10, False)"
   ]
  },
  {
   "cell_type": "code",
   "execution_count": 14,
   "metadata": {},
   "outputs": [
    {
     "name": "stdout",
     "output_type": "stream",
     "text": [
      "+--------------------+-----+\n",
      "|title               |count|\n",
      "+--------------------+-----+\n",
      "|The Three Musketeers|8    |\n",
      "|Les Misérables      |8    |\n",
      "|Cinderella          |8    |\n",
      "|Hamlet              |7    |\n",
      "|The Island          |7    |\n",
      "|A Christmas Carol   |7    |\n",
      "|Dracula             |7    |\n",
      "|Frankenstein        |7    |\n",
      "|Framed              |6    |\n",
      "|The Lost World      |6    |\n",
      "+--------------------+-----+\n",
      "only showing top 10 rows\n",
      "\n"
     ]
    },
    {
     "data": {
      "text/plain": [
       "43"
      ]
     },
     "execution_count": 14,
     "metadata": {},
     "output_type": "execute_result"
    }
   ],
   "source": [
    "#  One way frquencies with filters\n",
    "df_temp=df.filter((df['title']!='')&(df['title'].isNotNull()) & (~isnan(df['title'])))\n",
    "df_temp.groupby(df_temp['title']).count().filter(\"`count` >4\").sort(col(\"count\").desc()).show(10,False)\n",
    "df_temp.groupby(df_temp['title']).count().filter(\"`count` >4\").sort(col(\"count\").desc()).count()"
   ]
  },
  {
   "cell_type": "code",
   "execution_count": 15,
   "metadata": {},
   "outputs": [],
   "source": [
    "# Casting\n",
    "df = df.withColumn('budget',df['budget'].cast(\"float\"))"
   ]
  },
  {
   "cell_type": "code",
   "execution_count": 16,
   "metadata": {
    "scrolled": true
   },
   "outputs": [
    {
     "data": {
      "text/plain": [
       "[('id', 'string'),\n",
       " ('budget', 'float'),\n",
       " ('popularity', 'string'),\n",
       " ('release_date', 'string'),\n",
       " ('revenue', 'string'),\n",
       " ('title', 'string')]"
      ]
     },
     "execution_count": 16,
     "metadata": {},
     "output_type": "execute_result"
    }
   ],
   "source": [
    "#Before Casting\n",
    "df.dtypes"
   ]
  },
  {
   "cell_type": "code",
   "execution_count": 17,
   "metadata": {},
   "outputs": [
    {
     "data": {
      "text/plain": [
       "[('id', 'string'),\n",
       " ('budget', 'float'),\n",
       " ('popularity', 'string'),\n",
       " ('release_date', 'string'),\n",
       " ('revenue', 'string'),\n",
       " ('title', 'string')]"
      ]
     },
     "execution_count": 17,
     "metadata": {},
     "output_type": "execute_result"
    }
   ],
   "source": [
    "#After Casting\n",
    "df.dtypes"
   ]
  },
  {
   "cell_type": "code",
   "execution_count": 18,
   "metadata": {},
   "outputs": [],
   "source": [
    "# Casting multiple variables\n",
    "from pyspark.sql.types import *\n",
    "\n",
    "#Identifying and assiging lists of variables  \n",
    "int_vars=['id']\n",
    "float_vars=['budget', 'popularity', 'revenue']\n",
    "date_vars=['release_date']\n",
    "\n",
    "for column in int_vars:\n",
    "\tdf=df.withColumn(column,df[column].cast(IntegerType()))\n",
    "for column in float_vars:\n",
    "\tdf=df.withColumn(column,df[column].cast(FloatType()))\n",
    "for column in date_vars:\n",
    "\tdf=df.withColumn(column,df[column].cast(DateType()))"
   ]
  },
  {
   "cell_type": "code",
   "execution_count": 19,
   "metadata": {},
   "outputs": [
    {
     "data": {
      "text/plain": [
       "[('id', 'int'),\n",
       " ('budget', 'float'),\n",
       " ('popularity', 'float'),\n",
       " ('release_date', 'date'),\n",
       " ('revenue', 'float'),\n",
       " ('title', 'string')]"
      ]
     },
     "execution_count": 19,
     "metadata": {},
     "output_type": "execute_result"
    }
   ],
   "source": [
    "#After Casting\n",
    "df.dtypes"
   ]
  },
  {
   "cell_type": "code",
   "execution_count": 20,
   "metadata": {},
   "outputs": [
    {
     "name": "stdout",
     "output_type": "stream",
     "text": [
      "+-----+--------+----------+------------+-------+---------------------------------------+\n",
      "|id   |budget  |popularity|release_date|revenue|title                                  |\n",
      "+-----+--------+----------+------------+-------+---------------------------------------+\n",
      "|43000|0.0     |2.503     |1962-05-23  |0.0    |The Elusive Corporal                   |\n",
      "|43001|0.0     |5.51      |1962-11-12  |0.0    |Sundays and Cybele                     |\n",
      "|43002|0.0     |5.62      |1962-05-24  |0.0    |Lonely Are the Brave                   |\n",
      "|43003|0.0     |7.159     |1975-03-12  |0.0    |F for Fake                             |\n",
      "|43004|500000.0|3.988     |1962-10-09  |0.0    |Long Day's Journey Into Night          |\n",
      "|43006|0.0     |3.194     |1962-03-09  |0.0    |My Geisha                              |\n",
      "|43007|0.0     |2.689     |1962-10-31  |0.0    |Period of Adjustment                   |\n",
      "|43008|0.0     |6.537     |1959-03-13  |0.0    |The Hanging Tree                       |\n",
      "|43010|0.0     |4.297     |1962-01-01  |0.0    |Sherlock Holmes and the Deadly Necklace|\n",
      "|43011|0.0     |4.417     |1962-01-01  |0.0    |Sodom and Gomorrah                     |\n",
      "+-----+--------+----------+------------+-------+---------------------------------------+\n",
      "only showing top 10 rows\n",
      "\n"
     ]
    }
   ],
   "source": [
    "#After Casting output\n",
    "df.show(10,False)"
   ]
  },
  {
   "cell_type": "code",
   "execution_count": 21,
   "metadata": {},
   "outputs": [
    {
     "name": "stdout",
     "output_type": "stream",
     "text": [
      "+-------+------------------+--------------------+-----------------+--------------------+--------------------+\n",
      "|summary|                id|              budget|       popularity|             revenue|               title|\n",
      "+-------+------------------+--------------------+-----------------+--------------------+--------------------+\n",
      "|  count|             43784|               43873|            43783|               43783|               43694|\n",
      "|   mean|44502.304312077475|   3736901.834963166|5.295444259579189|   9697079.597382545|            Infinity|\n",
      "| stddev|27189.646588626343|1.5871814952777334E7|6.168030519208248|5.6879384496288106E7|                 NaN|\n",
      "|    min|                 2|                 0.0|              0.6|                 0.0|!Women Art Revolu...|\n",
      "|    max|            100988|               3.8E8|            180.0|        2.78796518E9|       시크릿 Secret|\n",
      "+-------+------------------+--------------------+-----------------+--------------------+--------------------+\n",
      "\n"
     ]
    }
   ],
   "source": [
    "# Describe function\n",
    "df.describe().show()"
   ]
  },
  {
   "cell_type": "code",
   "execution_count": 22,
   "metadata": {},
   "outputs": [
    {
     "name": "stdout",
     "output_type": "stream",
     "text": [
      "The median of budget is [7000000.0]\n"
     ]
    }
   ],
   "source": [
    "# Median Calculation\n",
    "df_temp = df.filter((df['budget']!=0)&(df['budget'].isNotNull()) & (~isnan(df['budget'])))\n",
    "median=df_temp.approxQuantile('budget',[0.5],0.001)\n",
    "print ('The median of budget is '+str(median))\n"
   ]
  },
  {
   "cell_type": "code",
   "execution_count": 23,
   "metadata": {},
   "outputs": [
    {
     "name": "stdout",
     "output_type": "stream",
     "text": [
      "+-----+\n",
      "|count|\n",
      "+-----+\n",
      "|41138|\n",
      "+-----+\n",
      "\n"
     ]
    }
   ],
   "source": [
    "# Distinct Counts\n",
    "df.agg(countDistinct(col(\"title\")).alias(\"count\")).show()"
   ]
  },
  {
   "cell_type": "code",
   "execution_count": 24,
   "metadata": {
    "scrolled": true
   },
   "outputs": [
    {
     "name": "stdout",
     "output_type": "stream",
     "text": [
      "+---------------------------------------------+\n",
      "|title                                        |\n",
      "+---------------------------------------------+\n",
      "|The Corn Is Green                            |\n",
      "|Meet The Browns - The Play                   |\n",
      "|Morenita, El Escandalo                       |\n",
      "|Father Takes a Wife                          |\n",
      "|The Werewolf of Washington                   |\n",
      "|My Wife Is a Gangster                        |\n",
      "|Depeche Mode: Touring the Angel Live in Milan|\n",
      "|A Woman Is a Woman                           |\n",
      "|History Is Made at Night                     |\n",
      "|Colombian Love                               |\n",
      "+---------------------------------------------+\n",
      "only showing top 10 rows\n",
      "\n"
     ]
    }
   ],
   "source": [
    "# Distinct Values\n",
    "df.select('title').distinct().show(10,False)"
   ]
  },
  {
   "cell_type": "code",
   "execution_count": 25,
   "metadata": {},
   "outputs": [
    {
     "name": "stdout",
     "output_type": "stream",
     "text": [
      "+------------+------------+\n",
      "|release_year|count(title)|\n",
      "+------------+------------+\n",
      "|1959        |271         |\n",
      "|1990        |496         |\n",
      "|1975        |365         |\n",
      "|1977        |415         |\n",
      "|1924        |19          |\n",
      "|2003        |1199        |\n",
      "|2007        |1896        |\n",
      "|2018        |4           |\n",
      "|1974        |434         |\n",
      "|2015        |13          |\n",
      "+------------+------------+\n",
      "only showing top 10 rows\n",
      "\n"
     ]
    }
   ],
   "source": [
    "# Distinct Aggregations\n",
    "df_temp=df.withColumn('release_year',year('release_date'))\n",
    "df_temp.groupBy(\"release_year\").agg(countDistinct(\"title\")).show(10,False)"
   ]
  },
  {
   "cell_type": "code",
   "execution_count": 26,
   "metadata": {},
   "outputs": [],
   "source": [
    "# Datetime extractions\n",
    "df_temp=df_temp.withColumn('release_month',month('release_date'))\n",
    "df_temp=df_temp.withColumn('release_day',dayofmonth('release_date'))"
   ]
  },
  {
   "cell_type": "code",
   "execution_count": 27,
   "metadata": {},
   "outputs": [
    {
     "name": "stdout",
     "output_type": "stream",
     "text": [
      "+-----+---------+----------+------------+---------+--------------------+------------+-------------+-----------+\n",
      "|   id|   budget|popularity|release_date|  revenue|               title|release_year|release_month|release_day|\n",
      "+-----+---------+----------+------------+---------+--------------------+------------+-------------+-----------+\n",
      "|43000|      0.0|     2.503|  1962-05-23|      0.0|The Elusive Corporal|        1962|            5|         23|\n",
      "|43001|      0.0|      5.51|  1962-11-12|      0.0|  Sundays and Cybele|        1962|           11|         12|\n",
      "|43002|      0.0|      5.62|  1962-05-24|      0.0|Lonely Are the Brave|        1962|            5|         24|\n",
      "|43003|      0.0|     7.159|  1975-03-12|      0.0|          F for Fake|        1975|            3|         12|\n",
      "|43004| 500000.0|     3.988|  1962-10-09|      0.0|Long Day's Journe...|        1962|           10|          9|\n",
      "|43006|      0.0|     3.194|  1962-03-09|      0.0|           My Geisha|        1962|            3|          9|\n",
      "|43007|      0.0|     2.689|  1962-10-31|      0.0|Period of Adjustment|        1962|           10|         31|\n",
      "|43008|      0.0|     6.537|  1959-03-13|      0.0|    The Hanging Tree|        1959|            3|         13|\n",
      "|43010|      0.0|     4.297|  1962-01-01|      0.0|Sherlock Holmes a...|        1962|            1|          1|\n",
      "|43011|      0.0|     4.417|  1962-01-01|      0.0|  Sodom and Gomorrah|        1962|            1|          1|\n",
      "|43012|7000000.0|     4.722|  1962-11-21|4000000.0|         Taras Bulba|        1962|           11|         21|\n",
      "|43013|      0.0|     2.543|  1962-04-17|      0.0|The Counterfeit T...|        1962|            4|         17|\n",
      "|43014|      0.0|     4.303|  1962-10-24|      0.0|     Tower of London|        1962|           10|         24|\n",
      "|43015|      0.0|     3.493|  1962-12-07|      0.0|Varan the Unbelie...|        1962|           12|          7|\n",
      "|43016|      0.0|     2.851|  1962-01-01|      0.0|Waltz of the Tore...|        1962|            1|          1|\n",
      "|43017|      0.0|     4.047|  1961-10-11|      0.0|         Back Street|        1961|           10|         11|\n",
      "|43018|      0.0|     2.661|  1961-06-02|      0.0|Gidget Goes Hawaiian|        1961|            6|          2|\n",
      "|43019|      0.0|     3.225|  2010-05-28|      0.0|Schuks Tshabalala...|        2010|            5|         28|\n",
      "|43020|      0.0|      5.72|  1961-06-15|      0.0|The Colossus of R...|        1961|            6|         15|\n",
      "|43021|      0.0|     3.292|  2008-08-22|      0.0|          Sex Galaxy|        2008|            8|         22|\n",
      "+-----+---------+----------+------------+---------+--------------------+------------+-------------+-----------+\n",
      "only showing top 20 rows\n",
      "\n"
     ]
    }
   ],
   "source": [
    "# Output of datetime extractions\n",
    "df_temp.show()"
   ]
  },
  {
   "cell_type": "code",
   "execution_count": 28,
   "metadata": {},
   "outputs": [
    {
     "name": "stdout",
     "output_type": "stream",
     "text": [
      "+-----+---------+----------+------------+-----------+--------------------------+\n",
      "|id   |budget   |popularity|release_date|revenue    |title                     |\n",
      "+-----+---------+----------+------------+-----------+--------------------------+\n",
      "|43957|500000.0 |2.649     |2005-06-28  |1000000.0  |Meet The Browns - The Play|\n",
      "|39997|0.0      |3.585     |1989-11-15  |0.0        |Meet the Hollowheads      |\n",
      "|16710|0.0      |11.495    |2008-03-21  |4.1939392E7|Meet the Browns           |\n",
      "|20430|0.0      |3.614     |2004-01-29  |0.0        |Meet Market               |\n",
      "|76435|0.0      |1.775     |2011-03-31  |0.0        |Meet the In-Laws          |\n",
      "|76516|5000000.0|4.05      |1990-11-08  |485772.0   |Meet the Applegates       |\n",
      "|7278 |3.0E7    |11.116    |2008-01-24  |8.4646832E7|Meet the Spartans         |\n",
      "|32574|0.0      |7.42      |1941-03-14  |0.0        |Meet John Doe             |\n",
      "|40506|0.0      |4.814     |1997-01-31  |0.0        |Meet Wally Sparks         |\n",
      "|40688|2.4E7    |6.848     |1998-03-27  |4562146.0  |Meet the Deedles          |\n",
      "+-----+---------+----------+------------+-----------+--------------------------+\n",
      "only showing top 10 rows\n",
      "\n"
     ]
    }
   ],
   "source": [
    "# Filtering based on like\n",
    "df.filter(df['title'].like('Meet%')).show(10,False)"
   ]
  },
  {
   "cell_type": "code",
   "execution_count": 29,
   "metadata": {},
   "outputs": [
    {
     "name": "stdout",
     "output_type": "stream",
     "text": [
      "+-----+--------+----------+------------+-------+---------------------------------------+\n",
      "|id   |budget  |popularity|release_date|revenue|title                                  |\n",
      "+-----+--------+----------+------------+-------+---------------------------------------+\n",
      "|43000|0.0     |2.503     |1962-05-23  |0.0    |The Elusive Corporal                   |\n",
      "|43001|0.0     |5.51      |1962-11-12  |0.0    |Sundays and Cybele                     |\n",
      "|43002|0.0     |5.62      |1962-05-24  |0.0    |Lonely Are the Brave                   |\n",
      "|43003|0.0     |7.159     |1975-03-12  |0.0    |F for Fake                             |\n",
      "|43004|500000.0|3.988     |1962-10-09  |0.0    |Long Day's Journey Into Night          |\n",
      "|43006|0.0     |3.194     |1962-03-09  |0.0    |My Geisha                              |\n",
      "|43007|0.0     |2.689     |1962-10-31  |0.0    |Period of Adjustment                   |\n",
      "|43008|0.0     |6.537     |1959-03-13  |0.0    |The Hanging Tree                       |\n",
      "|43010|0.0     |4.297     |1962-01-01  |0.0    |Sherlock Holmes and the Deadly Necklace|\n",
      "|43011|0.0     |4.417     |1962-01-01  |0.0    |Sodom and Gomorrah                     |\n",
      "+-----+--------+----------+------------+-------+---------------------------------------+\n",
      "only showing top 10 rows\n",
      "\n"
     ]
    }
   ],
   "source": [
    "# Filtering based on not like\n",
    "df.filter(~df['title'].like('%s')).show(10,False)"
   ]
  },
  {
   "cell_type": "code",
   "execution_count": 30,
   "metadata": {},
   "outputs": [
    {
     "name": "stdout",
     "output_type": "stream",
     "text": [
      "+-----+------+----------+------------+------------+------------------------+\n",
      "|id   |budget|popularity|release_date|revenue     |title                   |\n",
      "+-----+------+----------+------------+------------+------------------------+\n",
      "|43100|0.0   |7.252     |1959-10-07  |0.0         |General Della Rovere    |\n",
      "|43152|0.0   |5.126     |2001-06-21  |0.0         |Love on a Diet          |\n",
      "|43191|0.0   |4.921     |1952-08-29  |0.0         |Beware, My Lovely       |\n",
      "|43281|0.0   |2.411     |1989-11-22  |0.0         |Love Without Pity       |\n",
      "|43343|0.0   |3.174     |1953-12-25  |0.0         |Easy to Love            |\n",
      "|43347|3.0E7 |14.863    |2010-11-22  |1.02820008E8|Love & Other Drugs      |\n",
      "|43362|0.0   |1.705     |1952-02-23  |0.0         |Love Is Better Than Ever|\n",
      "|43363|0.0   |2.02      |1952-05-29  |0.0         |Lovely to Look At       |\n",
      "|43395|0.0   |4.758     |1950-11-10  |0.0         |Two Weeks with Love     |\n",
      "|43455|0.0   |4.669     |1948-08-23  |0.0         |The Loves of Carmen     |\n",
      "+-----+------+----------+------------+------------+------------------------+\n",
      "only showing top 10 rows\n",
      "\n"
     ]
    }
   ],
   "source": [
    "# Filtering based on not regular expressions - P1\n",
    "df.filter(df['title'].rlike('[A-Z]*ove')).show(10,False)"
   ]
  },
  {
   "cell_type": "code",
   "execution_count": 31,
   "metadata": {},
   "outputs": [
    {
     "name": "stdout",
     "output_type": "stream",
     "text": [
      "+-----+------+----------+------------+------------+--------------------+\n",
      "|   id|budget|popularity|release_date|     revenue|               title|\n",
      "+-----+------+----------+------------+------------+--------------------+\n",
      "|43100|   0.0|     7.252|  1959-10-07|         0.0|General Della Rovere|\n",
      "|43152|   0.0|     5.126|  2001-06-21|         0.0|      Love on a Diet|\n",
      "|43191|   0.0|     4.921|  1952-08-29|         0.0|   Beware, My Lovely|\n",
      "|43281|   0.0|     2.411|  1989-11-22|         0.0|   Love Without Pity|\n",
      "|43343|   0.0|     3.174|  1953-12-25|         0.0|        Easy to Love|\n",
      "|43347| 3.0E7|    14.863|  2010-11-22|1.02820008E8|  Love & Other Drugs|\n",
      "|43362|   0.0|     1.705|  1952-02-23|         0.0|Love Is Better Th...|\n",
      "|43363|   0.0|      2.02|  1952-05-29|         0.0|   Lovely to Look At|\n",
      "|43395|   0.0|     4.758|  1950-11-10|         0.0| Two Weeks with Love|\n",
      "|43455|   0.0|     4.669|  1948-08-23|         0.0| The Loves of Carmen|\n",
      "|43483|   0.0|     3.161|  1946-12-25|         0.0|Love Laughs at An...|\n",
      "|43547|   0.0|     7.635|  2009-01-30|         0.0|Between Love & Go...|\n",
      "|43556|   0.0|     2.418|  2006-10-31|         0.0|Joe Satriani - Li...|\n",
      "|43561|   0.0|     8.475|  2004-12-17|         0.0|   Christmas in Love|\n",
      "|43609|   0.0|     5.684|  2010-04-07|         0.0|    My Own Love Song|\n",
      "|43652|   0.0|     3.097|  2009-11-19|         0.0| Beloved Berlin Wall|\n",
      "|43739|   0.0|     4.514|  1939-04-07|         0.0|         Love Affair|\n",
      "|43742| 6.0E7|     3.723|  1994-10-21|         0.0|         Love Affair|\n",
      "|43764|   0.0|      0.73|  2006-01-01|         0.0|The Fish Fall in ...|\n",
      "|43787|   0.0|     5.769|  1942-11-19|         0.0|You Were Never Lo...|\n",
      "+-----+------+----------+------------+------------+--------------------+\n",
      "only showing top 20 rows\n",
      "\n"
     ]
    }
   ],
   "source": [
    "# Filtering based on contain function\n",
    "df.filter(df.title.contains('ove')).show()"
   ]
  },
  {
   "cell_type": "code",
   "execution_count": 32,
   "metadata": {},
   "outputs": [
    {
     "data": {
      "text/plain": [
       "1025"
      ]
     },
     "execution_count": 32,
     "metadata": {},
     "output_type": "execute_result"
    }
   ],
   "source": [
    "# Filtering based on regular expression - P2\n",
    "df.filter(df['title'].rlike('\\w*ove')).count()"
   ]
  },
  {
   "cell_type": "code",
   "execution_count": 33,
   "metadata": {},
   "outputs": [
    {
     "name": "stdout",
     "output_type": "stream",
     "text": [
      "root\n",
      " |-- release_date: date (nullable = true)\n",
      " |-- revenue: float (nullable = true)\n",
      "\n"
     ]
    }
   ],
   "source": [
    "# Filtering based on regular expression with ColRegex to subset columns - P1\n",
    "df.select(df.colRegex(\"`(re)+?.+`\")).printSchema()"
   ]
  },
  {
   "cell_type": "code",
   "execution_count": 34,
   "metadata": {},
   "outputs": [
    {
     "name": "stdout",
     "output_type": "stream",
     "text": [
      "root\n",
      " |-- release_date: date (nullable = true)\n",
      " |-- revenue: float (nullable = true)\n",
      "\n"
     ]
    }
   ],
   "source": [
    "# Filtering based on regular expression with ColRegex to subset columns - P2\n",
    "df.select(df.colRegex(\"`re\\w*`\")).printSchema()"
   ]
  },
  {
   "cell_type": "code",
   "execution_count": 35,
   "metadata": {},
   "outputs": [
    {
     "name": "stdout",
     "output_type": "stream",
     "text": [
      "root\n",
      " |-- release_date: date (nullable = true)\n",
      " |-- revenue: float (nullable = true)\n",
      " |-- title: string (nullable = true)\n",
      "\n"
     ]
    }
   ],
   "source": [
    "# Filtering based on regular expression with ColRegex to subset columns - P3\n",
    "df.select(df.colRegex(\"`\\w*e`\")).printSchema()"
   ]
  },
  {
   "cell_type": "code",
   "execution_count": 36,
   "metadata": {},
   "outputs": [
    {
     "name": "stdout",
     "output_type": "stream",
     "text": [
      "root\n",
      " |-- id: integer (nullable = true)\n",
      " |-- budget: float (nullable = true)\n",
      " |-- popularity: float (nullable = true)\n",
      " |-- release_date: date (nullable = true)\n",
      " |-- revenue: float (nullable = true)\n",
      " |-- title: string (nullable = true)\n",
      " |-- mean_popularity: double (nullable = false)\n",
      " |-- varaiance: double (nullable = true)\n",
      "\n"
     ]
    }
   ],
   "source": [
    "# New Columns\n",
    "mean_pop=df.agg({'popularity': 'mean'}).collect()[0]['avg(popularity)']\n",
    "count_obs= df.count()\n",
    "df=df.withColumn('mean_popularity',lit(mean_pop))\n",
    "df=df.withColumn('varaiance',pow((df['popularity']-df['mean_popularity']),2))\n",
    "df.printSchema()"
   ]
  },
  {
   "cell_type": "code",
   "execution_count": 37,
   "metadata": {},
   "outputs": [
    {
     "name": "stdout",
     "output_type": "stream",
     "text": [
      "+-----+---------+----------+------------+---------+--------------------+-----------------+--------------------+\n",
      "|   id|   budget|popularity|release_date|  revenue|               title|  mean_popularity|           varaiance|\n",
      "+-----+---------+----------+------------+---------+--------------------+-----------------+--------------------+\n",
      "|43000|      0.0|     2.503|  1962-05-23|      0.0|The Elusive Corporal|5.295444259579189|   7.797744825681142|\n",
      "|43001|      0.0|      5.51|  1962-11-12|      0.0|  Sundays and Cybele|5.295444259579189|0.046034263963398346|\n",
      "|43002|      0.0|      5.62|  1962-05-24|      0.0|Lonely Are the Brave|5.295444259579189| 0.10533635435520017|\n",
      "|43003|      0.0|     7.159|  1975-03-12|      0.0|          F for Fake|5.295444259579189|  3.4728396990815216|\n",
      "|43004| 500000.0|     3.988|  1962-10-09|      0.0|Long Day's Journe...|5.295444259579189|   1.709410711356759|\n",
      "|43006|      0.0|     3.194|  1962-03-09|      0.0|           My Geisha|5.295444259579189|   4.416067952069205|\n",
      "|43007|      0.0|     2.689|  1962-10-31|      0.0|Period of Adjustment|5.295444259579189|   6.793552245032679|\n",
      "|43008|      0.0|     6.537|  1959-03-13|      0.0|    The Hanging Tree|5.295444259579189|  1.5414611017708733|\n",
      "|43010|      0.0|     4.297|  1962-01-01|      0.0|Sherlock Holmes a...|5.295444259579189|   0.996891076602093|\n",
      "|43011|      0.0|     4.417|  1962-01-01|      0.0|  Sodom and Gomorrah|5.295444259579189|  0.7716646388835591|\n",
      "|43012|7000000.0|     4.722|  1962-11-21|4000000.0|         Taras Bulba|5.295444259579189| 0.32883817884329936|\n",
      "|43013|      0.0|     2.543|  1962-04-17|      0.0|The Counterfeit T...|5.295444259579189|   7.575949496588105|\n",
      "|43014|      0.0|     4.303|  1962-10-24|      0.0|     Tower of London|5.295444259579189|  0.9849456613739271|\n",
      "|43015|      0.0|     3.493|  1962-12-07|      0.0|Varan the Unbelie...|5.295444259579189|   3.248805198877505|\n",
      "|43016|      0.0|     2.851|  1962-01-01|      0.0|Waltz of the Tore...|5.295444259579189|   5.975307393171506|\n",
      "|43017|      0.0|     4.047|  1961-10-11|      0.0|         Back Street|5.295444259579189|  1.5586132407239628|\n",
      "|43018|      0.0|     2.661|  1961-06-02|      0.0|Gidget Goes Hawaiian|5.295444259579189|   6.940296486482491|\n",
      "|43019|      0.0|     3.225|  2010-05-28|      0.0|Schuks Tshabalala...|5.295444259579189|  4.2867398269303285|\n",
      "|43020|      0.0|      5.72|  1961-06-15|      0.0|The Colossus of R...|5.295444259579189|  0.1802473985736286|\n",
      "|43021|      0.0|     3.292|  2008-08-22|      0.0|          Sex Galaxy|5.295444259579189|   4.013788679607341|\n",
      "+-----+---------+----------+------------+---------+--------------------+-----------------+--------------------+\n",
      "only showing top 20 rows\n",
      "\n"
     ]
    }
   ],
   "source": [
    "# New Columns - output\n",
    "df.show()"
   ]
  },
  {
   "cell_type": "code",
   "execution_count": 38,
   "metadata": {},
   "outputs": [
    {
     "name": "stdout",
     "output_type": "stream",
     "text": [
      "1665668.6984729888\n",
      "37.85868805766277\n"
     ]
    }
   ],
   "source": [
    "# variance calculation\n",
    "variance_sum=df.agg({'varaiance': 'sum'}).collect()[0]['sum(varaiance)']\n",
    "print(variance_sum)\n",
    "variance_population= variance_sum/(count_obs-1)\n",
    "print(variance_population)"
   ]
  },
  {
   "cell_type": "code",
   "execution_count": 39,
   "metadata": {},
   "outputs": [
    {
     "data": {
      "text/plain": [
       "6.152941415100811"
      ]
     },
     "execution_count": 39,
     "metadata": {},
     "output_type": "execute_result"
    }
   ],
   "source": [
    "# Standard deviation\n",
    "import math\n",
    "math.sqrt(variance_population)"
   ]
  },
  {
   "cell_type": "code",
   "execution_count": 40,
   "metadata": {},
   "outputs": [
    {
     "name": "stdout",
     "output_type": "stream",
     "text": [
      "+-----+---------+----------+------------+---------+--------------------+-----------------+--------------------+\n",
      "|   id|   budget|popularity|release_date|  revenue|               title|  mean_popularity|           varaiance|\n",
      "+-----+---------+----------+------------+---------+--------------------+-----------------+--------------------+\n",
      "|43000|      0.0|     2.503|  1962-05-23|      0.0|The Elusive Corporal|5.295444259579189|   7.797744825681142|\n",
      "|43001|      0.0|      5.51|  1962-11-12|      0.0|  Sundays and Cybele|5.295444259579189|0.046034263963398346|\n",
      "|43002|      0.0|      5.62|  1962-05-24|      0.0|Lonely Are the Brave|5.295444259579189| 0.10533635435520017|\n",
      "|43003|      0.0|     7.159|  1975-03-12|      0.0|          F for Fake|5.295444259579189|  3.4728396990815216|\n",
      "|43004| 500000.0|     3.988|  1962-10-09|      0.0|Long Day's Journe...|5.295444259579189|   1.709410711356759|\n",
      "|43006|      0.0|     3.194|  1962-03-09|      0.0|           My Geisha|5.295444259579189|   4.416067952069205|\n",
      "|43007|      0.0|     2.689|  1962-10-31|      0.0|Period of Adjustment|5.295444259579189|   6.793552245032679|\n",
      "|43008|      0.0|     6.537|  1959-03-13|      0.0|    The Hanging Tree|5.295444259579189|  1.5414611017708733|\n",
      "|43010|      0.0|     4.297|  1962-01-01|      0.0|Sherlock Holmes a...|5.295444259579189|   0.996891076602093|\n",
      "|43011|      0.0|     4.417|  1962-01-01|      0.0|  Sodom and Gomorrah|5.295444259579189|  0.7716646388835591|\n",
      "|43012|7000000.0|     4.722|  1962-11-21|4000000.0|         Taras Bulba|5.295444259579189| 0.32883817884329936|\n",
      "|43013|      0.0|     2.543|  1962-04-17|      0.0|The Counterfeit T...|5.295444259579189|   7.575949496588105|\n",
      "|43014|      0.0|     4.303|  1962-10-24|      0.0|     Tower of London|5.295444259579189|  0.9849456613739271|\n",
      "|43015|      0.0|     3.493|  1962-12-07|      0.0|Varan the Unbelie...|5.295444259579189|   3.248805198877505|\n",
      "|43016|      0.0|     2.851|  1962-01-01|      0.0|Waltz of the Tore...|5.295444259579189|   5.975307393171506|\n",
      "|43017|      0.0|     4.047|  1961-10-11|      0.0|         Back Street|5.295444259579189|  1.5586132407239628|\n",
      "|43018|      0.0|     2.661|  1961-06-02|      0.0|Gidget Goes Hawaiian|5.295444259579189|   6.940296486482491|\n",
      "|43019|      0.0|     3.225|  2010-05-28|      0.0|Schuks Tshabalala...|5.295444259579189|  4.2867398269303285|\n",
      "|43020|      0.0|      5.72|  1961-06-15|      0.0|The Colossus of R...|5.295444259579189|  0.1802473985736286|\n",
      "|43021|      0.0|     3.292|  2008-08-22|      0.0|          Sex Galaxy|5.295444259579189|   4.013788679607341|\n",
      "+-----+---------+----------+------------+---------+--------------------+-----------------+--------------------+\n",
      "only showing top 20 rows\n",
      "\n"
     ]
    }
   ],
   "source": [
    "# Variance calculation sub output\n",
    "df.show()"
   ]
  },
  {
   "cell_type": "code",
   "execution_count": 41,
   "metadata": {},
   "outputs": [
    {
     "name": "stdout",
     "output_type": "stream",
     "text": [
      "+-----+---------+----------+----------+-------+\n",
      "|id   |budget   |popularity|budget_cat|ratings|\n",
      "+-----+---------+----------+----------+-------+\n",
      "|43000|0.0      |2.503     |Small     |Low    |\n",
      "|43001|0.0      |5.51      |Small     |High   |\n",
      "|43002|0.0      |5.62      |Small     |High   |\n",
      "|43003|0.0      |7.159     |Small     |High   |\n",
      "|43004|500000.0 |3.988     |Small     |Mid    |\n",
      "|43006|0.0      |3.194     |Small     |Mid    |\n",
      "|43007|0.0      |2.689     |Small     |Low    |\n",
      "|43008|0.0      |6.537     |Small     |High   |\n",
      "|43010|0.0      |4.297     |Small     |Mid    |\n",
      "|43011|0.0      |4.417     |Small     |Mid    |\n",
      "|43012|7000000.0|4.722     |Small     |Mid    |\n",
      "|43013|0.0      |2.543     |Small     |Low    |\n",
      "|43014|0.0      |4.303     |Small     |Mid    |\n",
      "|43015|0.0      |3.493     |Small     |Mid    |\n",
      "|43016|0.0      |2.851     |Small     |Low    |\n",
      "+-----+---------+----------+----------+-------+\n",
      "only showing top 15 rows\n",
      "\n"
     ]
    }
   ],
   "source": [
    "#  New Columns - Method 2\n",
    "def new_cols(budget,popularity):\n",
    " if budget<10000000: budget_cat='Small'\n",
    " elif budget<100000000: budget_cat='Medium'\n",
    " else: budget_cat='Big'\n",
    " if popularity<3: ratings='Low'\n",
    " elif popularity<5: ratings='Mid'\n",
    " else: ratings='High'\n",
    " return budget_cat,ratings\n",
    "\n",
    "\n",
    "# Apply the user defined function on the dataframe\n",
    "udfB=udf(new_cols,StructType([StructField(\"budget_cat\", StringType(), True),StructField(\"ratings\", StringType(), True)]))\n",
    "temp_df=df.select('id','budget','popularity').withColumn(\"newcat\",udfB(\"budget\",\"popularity\"))\n",
    "# Unbundle the struct type columns into individual columns and drop the struct type \n",
    "df_with_newcols = temp_df.select('id','budget','popularity','newcat').withColumn('budget_cat', temp_df.newcat.getItem('budget_cat')).withColumn('ratings', temp_df.newcat.getItem('ratings')).drop('newcat')\n",
    "df_with_newcols.show(15,False)"
   ]
  },
  {
   "cell_type": "code",
   "execution_count": 42,
   "metadata": {},
   "outputs": [
    {
     "name": "stdout",
     "output_type": "stream",
     "text": [
      "root\n",
      " |-- id: integer (nullable = true)\n",
      " |-- budget: float (nullable = true)\n",
      " |-- popularity: float (nullable = true)\n",
      " |-- newcat: struct (nullable = true)\n",
      " |    |-- budget_cat: string (nullable = true)\n",
      " |    |-- ratings: string (nullable = true)\n",
      "\n"
     ]
    }
   ],
   "source": [
    "#  New Columns - Observe Metadata\n",
    "temp_df.printSchema()"
   ]
  },
  {
   "cell_type": "code",
   "execution_count": 43,
   "metadata": {},
   "outputs": [],
   "source": [
    "#  New Columns - Method 3\n",
    "df_with_newcols = df.select('id','budget','popularity').\\\n",
    "withColumn('budget_cat', when(df['budget']<10000000,'Small').when(df['budget']<100000000,'Medium').otherwise('Big')).\\\n",
    "withColumn('ratings', when(df['popularity']<3,'Low').when(df['popularity']<5,'Mid').otherwise('High'))"
   ]
  },
  {
   "cell_type": "code",
   "execution_count": 44,
   "metadata": {},
   "outputs": [],
   "source": [
    "#  Dropping and renaming\n",
    "columns_to_drop=['budget_cat']\n",
    "df_with_newcols=df_with_newcols.drop(*columns_to_drop)\n",
    "df_with_newcols = df_with_newcols.withColumnRenamed('id','film_id') .withColumnRenamed('ratings','film_ratings')\n",
    "# You can define all the variable changes in the list \n",
    "new_names = [('budget','film_budget'),('popularity','film_popularity')]\n",
    "\n",
    "# Applying the alias function\n",
    "df_with_newcols_renamed = df_with_newcols.select(list(map(lambda old,new:col(old).alias(new),*zip(*new_names))))\n"
   ]
  },
  {
   "cell_type": "code",
   "execution_count": 45,
   "metadata": {},
   "outputs": [
    {
     "name": "stdout",
     "output_type": "stream",
     "text": [
      "+-------+---------+----------+------------+\n",
      "|film_id|   budget|popularity|film_ratings|\n",
      "+-------+---------+----------+------------+\n",
      "|  43000|      0.0|     2.503|         Low|\n",
      "|  43001|      0.0|      5.51|        High|\n",
      "|  43002|      0.0|      5.62|        High|\n",
      "|  43003|      0.0|     7.159|        High|\n",
      "|  43004| 500000.0|     3.988|         Mid|\n",
      "|  43006|      0.0|     3.194|         Mid|\n",
      "|  43007|      0.0|     2.689|         Low|\n",
      "|  43008|      0.0|     6.537|        High|\n",
      "|  43010|      0.0|     4.297|         Mid|\n",
      "|  43011|      0.0|     4.417|         Mid|\n",
      "|  43012|7000000.0|     4.722|         Mid|\n",
      "|  43013|      0.0|     2.543|         Low|\n",
      "|  43014|      0.0|     4.303|         Mid|\n",
      "|  43015|      0.0|     3.493|         Mid|\n",
      "|  43016|      0.0|     2.851|         Low|\n",
      "|  43017|      0.0|     4.047|         Mid|\n",
      "|  43018|      0.0|     2.661|         Low|\n",
      "|  43019|      0.0|     3.225|         Mid|\n",
      "|  43020|      0.0|      5.72|        High|\n",
      "|  43021|      0.0|     3.292|         Mid|\n",
      "+-------+---------+----------+------------+\n",
      "only showing top 20 rows\n",
      "\n"
     ]
    }
   ],
   "source": [
    "#  Observe data\n",
    "df_with_newcols.show()"
   ]
  },
  {
   "cell_type": "markdown",
   "metadata": {},
   "source": [
    "# Chapter 3 Demonstrations"
   ]
  },
  {
   "cell_type": "code",
   "execution_count": 46,
   "metadata": {},
   "outputs": [
    {
     "name": "stdout",
     "output_type": "stream",
     "text": [
      "+-----+---------+----------+----------+-------+---------------------+\n",
      "|   id|   budget|popularity|budget_cat|ratings|BudgetRating_Category|\n",
      "+-----+---------+----------+----------+-------+---------------------+\n",
      "|43000|      0.0|     2.503|     Small|    Low|             smalllow|\n",
      "|43001|      0.0|      5.51|     Small|   High|            smallhigh|\n",
      "|43002|      0.0|      5.62|     Small|   High|            smallhigh|\n",
      "|43003|      0.0|     7.159|     Small|   High|            smallhigh|\n",
      "|43004| 500000.0|     3.988|     Small|    Mid|             smallmid|\n",
      "|43006|      0.0|     3.194|     Small|    Mid|             smallmid|\n",
      "|43007|      0.0|     2.689|     Small|    Low|             smalllow|\n",
      "|43008|      0.0|     6.537|     Small|   High|            smallhigh|\n",
      "|43010|      0.0|     4.297|     Small|    Mid|             smallmid|\n",
      "|43011|      0.0|     4.417|     Small|    Mid|             smallmid|\n",
      "|43012|7000000.0|     4.722|     Small|    Mid|             smallmid|\n",
      "|43013|      0.0|     2.543|     Small|    Low|             smalllow|\n",
      "|43014|      0.0|     4.303|     Small|    Mid|             smallmid|\n",
      "|43015|      0.0|     3.493|     Small|    Mid|             smallmid|\n",
      "|43016|      0.0|     2.851|     Small|    Low|             smalllow|\n",
      "|43017|      0.0|     4.047|     Small|    Mid|             smallmid|\n",
      "|43018|      0.0|     2.661|     Small|    Low|             smalllow|\n",
      "|43019|      0.0|     3.225|     Small|    Mid|             smallmid|\n",
      "|43020|      0.0|      5.72|     Small|   High|            smallhigh|\n",
      "|43021|      0.0|     3.292|     Small|    Mid|             smallmid|\n",
      "+-----+---------+----------+----------+-------+---------------------+\n",
      "only showing top 20 rows\n",
      "\n"
     ]
    }
   ],
   "source": [
    "# String functions\n",
    "df_with_newcols = df.select('id','budget','popularity').\\\n",
    "withColumn('budget_cat', when(df['budget']<10000000,'Small').when(df['budget']<100000000,'Medium').otherwise('Big')).\\\n",
    "withColumn('ratings', when(df['popularity']<3,'Low').when(df['popularity']<5,'Mid').otherwise('High'))\n",
    "\n",
    "df_with_newcols=df_with_newcols.withColumn('BudgetRating_Category',concat(df_with_newcols.budget_cat,df_with_newcols.ratings))\n",
    "df_with_newcols=df_with_newcols.withColumn('BudgetRating_Category',trim(lower(df_with_newcols.BudgetRating_Category)))\n",
    "df_with_newcols.show()\n"
   ]
  },
  {
   "cell_type": "code",
   "execution_count": 47,
   "metadata": {},
   "outputs": [
    {
     "name": "stdout",
     "output_type": "stream",
     "text": [
      "+-------+-------------+\n",
      "|ratings|ratings_count|\n",
      "+-------+-------------+\n",
      "|   High|        16856|\n",
      "|    Low|        14865|\n",
      "|    Mid|        12277|\n",
      "+-------+-------------+\n",
      "\n"
     ]
    }
   ],
   "source": [
    "# Registering temporary table\n",
    "df_with_newcols.registerTempTable('temp_data')\n",
    "\n",
    "# Showing the results\n",
    "spark.sql('select ratings, count(ratings) as ratings_count from temp_data group by ratings').show()"
   ]
  },
  {
   "cell_type": "code",
   "execution_count": 48,
   "metadata": {},
   "outputs": [
    {
     "name": "stdout",
     "output_type": "stream",
     "text": [
      "+-----------+--------------+--------------+-----------------+\n",
      "|decile_rank|min_popularity|max_popularity|count(popularity)|\n",
      "+-----------+--------------+--------------+-----------------+\n",
      "|          1|        10.185|         180.0|             4379|\n",
      "|          2|         7.481|        10.182|             4379|\n",
      "|          3|         5.841|         7.481|             4379|\n",
      "|          4|         4.823|         5.841|             4378|\n",
      "|          5|         4.054|         4.822|             4378|\n",
      "|          6|         3.383|         4.054|             4378|\n",
      "|          7|         2.747|         3.383|             4378|\n",
      "|          8|         2.075|         2.747|             4378|\n",
      "|          9|         1.389|         2.075|             4378|\n",
      "|         10|           0.6|         1.389|             4378|\n",
      "+-----------+--------------+--------------+-----------------+\n",
      "\n"
     ]
    }
   ],
   "source": [
    "# Deciling \n",
    "from pyspark.sql.window import *\n",
    "df_with_newcols=df_with_newcols.filter( (df_with_newcols['popularity'].isNotNull()) & (~isnan(df_with_newcols['popularity'])) )\n",
    "df_with_newcols = df_with_newcols.select(\"id\",\"budget\",\"popularity\", ntile(10).over(Window.partitionBy().orderBy(df_with_newcols['popularity'].desc())).alias(\"decile_rank\"))\n",
    "df_with_newcols.groupby(\"decile_rank\").agg(min('popularity').alias('min_popularity'),max('popularity').alias('max_popularity'),count('popularity')).show()\n",
    "\n"
   ]
  },
  {
   "cell_type": "code",
   "execution_count": 49,
   "metadata": {},
   "outputs": [],
   "source": [
    "# Data prep for windowing function\n",
    "df_second_best = df.select('id', 'popularity', 'release_date')\n",
    "df_second_best=df_second_best.withColumn('release_year',year('release_date')).drop('release_date')"
   ]
  },
  {
   "cell_type": "code",
   "execution_count": 50,
   "metadata": {},
   "outputs": [],
   "source": [
    "# Defining partition function\n",
    "year_window =  Window.partitionBy(df_second_best['release_year']).orderBy(df_with_newcols['popularity'].desc())\n",
    "df_second_best=df_second_best.select('id', 'popularity', 'release_year',rank().over(year_window).alias(\"rank\"))"
   ]
  },
  {
   "cell_type": "code",
   "execution_count": 51,
   "metadata": {},
   "outputs": [
    {
     "name": "stdout",
     "output_type": "stream",
     "text": [
      "+-----+----------+------------+----+\n",
      "|   id|popularity|release_year|rank|\n",
      "+-----+----------+------------+----+\n",
      "|11202|    14.029|        1970|   2|\n",
      "+-----+----------+------------+----+\n",
      "\n"
     ]
    }
   ],
   "source": [
    "df_second_best.filter((df_second_best['release_year']==1970) & (df_second_best['rank']==2)).show()"
   ]
  },
  {
   "cell_type": "code",
   "execution_count": 52,
   "metadata": {},
   "outputs": [
    {
     "name": "stdout",
     "output_type": "stream",
     "text": [
      "+-----+---------+------------+------------------+\n",
      "|id   |revenue  |release_year|revenue_difference|\n",
      "+-----+---------+------------+------------------+\n",
      "|665  |1.64E8   |1959        |0.0               |\n",
      "|10882|5.1E7    |1959        |1.13E8            |\n",
      "|239  |2.5E7    |1959        |1.39E8            |\n",
      "|4952 |1.875E7  |1959        |1.4525E8          |\n",
      "|15944|1.7658E7 |1959        |1.46342E8         |\n",
      "|213  |1.3275E7 |1959        |1.50724992E8      |\n",
      "|27029|1.28E7   |1959        |1.512E8           |\n",
      "|29996|1.22E7   |1959        |1.518E8           |\n",
      "|11571|1.0E7    |1959        |1.54E8            |\n",
      "|9660 |6800000.0|1959        |1.572E8           |\n",
      "+-----+---------+------------+------------------+\n",
      "only showing top 10 rows\n",
      "\n"
     ]
    }
   ],
   "source": [
    "# Revenue Difference\n",
    "\n",
    "df_revenue = df.select('id', 'revenue', 'release_date')\n",
    "df_revenue=df_revenue.withColumn('release_year',year('release_date')).drop('release_date')\n",
    "\n",
    "windowRev =Window.partitionBy(df_revenue['release_year']).orderBy(df_revenue['revenue'].desc()).rangeBetween(-sys.maxsize, sys.maxsize)\n",
    "\n",
    "revenue_difference = (max(df_revenue['revenue']).over(windowRev) - df_revenue['revenue'])\n",
    "df_revenue.select('id', 'revenue', 'release_year',revenue_difference.alias(\"revenue_difference\")).show(10,False)\n"
   ]
  },
  {
   "cell_type": "code",
   "execution_count": 53,
   "metadata": {},
   "outputs": [
    {
     "name": "stdout",
     "output_type": "stream",
     "text": [
      "+--------------+------------------------------------+\n",
      "|title         |collect_list(release_year)          |\n",
      "+--------------+------------------------------------+\n",
      "|The Lost World|[1999, 2001, 1925, 1960, 1992, 1998]|\n",
      "+--------------+------------------------------------+\n",
      "\n"
     ]
    }
   ],
   "source": [
    "# Collect list demonstration\n",
    "# Step 1:Create the year column from release date\n",
    "df=df.withColumn('release_year',year('release_date'))\n",
    "# Applying collect list function to gather all occurances\n",
    "df.filter(\"title=='The Lost World'\").groupby('title').agg(collect_list(\"release_year\")).show(1,False)\n"
   ]
  },
  {
   "cell_type": "code",
   "execution_count": 54,
   "metadata": {},
   "outputs": [
    {
     "data": {
      "text/plain": [
       "17711"
      ]
     },
     "execution_count": 54,
     "metadata": {},
     "output_type": "execute_result"
    }
   ],
   "source": [
    "# Simple random sampling in pyspark without replacement\n",
    " \n",
    "df_sample = df.sample(False, 0.4, 42)\n",
    "df_sample.count()"
   ]
  },
  {
   "cell_type": "code",
   "execution_count": 55,
   "metadata": {},
   "outputs": [
    {
     "data": {
      "text/plain": [
       "17745"
      ]
     },
     "execution_count": 55,
     "metadata": {},
     "output_type": "execute_result"
    }
   ],
   "source": [
    "# Simple random sampling in pyspark with replacement\n",
    " \n",
    "df_sample = df.sample(True, 0.4, 42)\n",
    "df_sample.count()"
   ]
  },
  {
   "cell_type": "code",
   "execution_count": 56,
   "metadata": {},
   "outputs": [
    {
     "data": {
      "text/plain": [
       "260"
      ]
     },
     "execution_count": 56,
     "metadata": {},
     "output_type": "execute_result"
    }
   ],
   "source": [
    "# Stratified sampling in pyspark \n",
    "df_strat = df.sampleBy(\"release_year\", fractions={1959: 0.2, 1960: 0.4, 1961: 0.4}, seed=11)\n",
    "df_strat.count()\n"
   ]
  },
  {
   "cell_type": "code",
   "execution_count": 57,
   "metadata": {},
   "outputs": [
    {
     "name": "stdout",
     "output_type": "stream",
     "text": [
      "+-----+---------+----------+------------+---------+--------------------+-----------------+--------------------+------------+\n",
      "|   id|   budget|popularity|release_date|  revenue|               title|  mean_popularity|           varaiance|release_year|\n",
      "+-----+---------+----------+------------+---------+--------------------+-----------------+--------------------+------------+\n",
      "|43000|      0.0|     2.503|  1962-05-23|      0.0|The Elusive Corporal|5.295444259579189|   7.797744825681142|        1962|\n",
      "|43001|      0.0|      5.51|  1962-11-12|      0.0|  Sundays and Cybele|5.295444259579189|0.046034263963398346|        1962|\n",
      "|43002|      0.0|      5.62|  1962-05-24|      0.0|Lonely Are the Brave|5.295444259579189| 0.10533635435520017|        1962|\n",
      "|43003|      0.0|     7.159|  1975-03-12|      0.0|          F for Fake|5.295444259579189|  3.4728396990815216|        1975|\n",
      "|43004| 500000.0|     3.988|  1962-10-09|      0.0|Long Day's Journe...|5.295444259579189|   1.709410711356759|        1962|\n",
      "|43006|      0.0|     3.194|  1962-03-09|      0.0|           My Geisha|5.295444259579189|   4.416067952069205|        1962|\n",
      "|43007|      0.0|     2.689|  1962-10-31|      0.0|Period of Adjustment|5.295444259579189|   6.793552245032679|        1962|\n",
      "|43008|      0.0|     6.537|  1959-03-13|      0.0|    The Hanging Tree|5.295444259579189|  1.5414611017708733|        1959|\n",
      "|43010|      0.0|     4.297|  1962-01-01|      0.0|Sherlock Holmes a...|5.295444259579189|   0.996891076602093|        1962|\n",
      "|43011|      0.0|     4.417|  1962-01-01|      0.0|  Sodom and Gomorrah|5.295444259579189|  0.7716646388835591|        1962|\n",
      "|43012|7000000.0|     4.722|  1962-11-21|4000000.0|         Taras Bulba|5.295444259579189| 0.32883817884329936|        1962|\n",
      "|43013|      0.0|     2.543|  1962-04-17|      0.0|The Counterfeit T...|5.295444259579189|   7.575949496588105|        1962|\n",
      "|43014|      0.0|     4.303|  1962-10-24|      0.0|     Tower of London|5.295444259579189|  0.9849456613739271|        1962|\n",
      "|43015|      0.0|     3.493|  1962-12-07|      0.0|Varan the Unbelie...|5.295444259579189|   3.248805198877505|        1962|\n",
      "|43016|      0.0|     2.851|  1962-01-01|      0.0|Waltz of the Tore...|5.295444259579189|   5.975307393171506|        1962|\n",
      "|43017|      0.0|     4.047|  1961-10-11|      0.0|         Back Street|5.295444259579189|  1.5586132407239628|        1961|\n",
      "|43018|      0.0|     2.661|  1961-06-02|      0.0|Gidget Goes Hawaiian|5.295444259579189|   6.940296486482491|        1961|\n",
      "|43019|      0.0|     3.225|  2010-05-28|      0.0|Schuks Tshabalala...|5.295444259579189|  4.2867398269303285|        2010|\n",
      "|43020|      0.0|      5.72|  1961-06-15|      0.0|The Colossus of R...|5.295444259579189|  0.1802473985736286|        1961|\n",
      "|43021|      0.0|     3.292|  2008-08-22|      0.0|          Sex Galaxy|5.295444259579189|   4.013788679607341|        2008|\n",
      "+-----+---------+----------+------------+---------+--------------------+-----------------+--------------------+------------+\n",
      "only showing top 20 rows\n",
      "\n"
     ]
    }
   ],
   "source": [
    "df.show()"
   ]
  },
  {
   "cell_type": "code",
   "execution_count": 58,
   "metadata": {},
   "outputs": [],
   "source": [
    "# Coalesce Demonstration\n",
    "df.coalesce(1).write.format('csv').option('delimiter', '|').save('output_df1')"
   ]
  },
  {
   "cell_type": "code",
   "execution_count": 59,
   "metadata": {},
   "outputs": [],
   "source": [
    "# PartitionBy Demonstration\n",
    "df.write.partitionBy('release_year').format('csv').option('delimiter', '|').save('output_df_partitioned')"
   ]
  },
  {
   "cell_type": "code",
   "execution_count": 60,
   "metadata": {},
   "outputs": [],
   "source": [
    "# SaveAs Demonstration\n",
    "df.write.saveAsTable('film_ratings')"
   ]
  },
  {
   "cell_type": "code",
   "execution_count": 61,
   "metadata": {},
   "outputs": [],
   "source": [
    "# Pyspark to Pandas\n",
    "df_pandas=df.toPandas()"
   ]
  },
  {
   "cell_type": "code",
   "execution_count": 62,
   "metadata": {},
   "outputs": [],
   "source": [
    "# Pandas to PySpark\n",
    "df_py = spark.createDataFrame(df_pandas)"
   ]
  },
  {
   "cell_type": "code",
   "execution_count": 63,
   "metadata": {},
   "outputs": [],
   "source": [
    "#  Reading another new dataset for joins \n",
    "\n",
    "# Input parameters\n",
    "file_location = \"movie_data_part2.csv\"\n",
    "file_type = \"csv\"\n",
    "infer_schema = \"False\"\n",
    "first_row_is_header = \"True\"\n",
    "delimiter = \"|\"\n",
    "\n",
    "# Bringing all the options together to read the csv file \n",
    "\n",
    "df_p1 = spark.read.format(file_type) \\\n",
    ".option(\"inferSchema\", infer_schema) \\\n",
    ".option(\"header\", first_row_is_header) \\\n",
    ".option(\"sep\", delimiter) \\\n",
    ".load(file_location)\n"
   ]
  },
  {
   "cell_type": "code",
   "execution_count": 64,
   "metadata": {},
   "outputs": [
    {
     "name": "stdout",
     "output_type": "stream",
     "text": [
      "root\n",
      " |-- id: integer (nullable = true)\n",
      " |-- budget: float (nullable = true)\n",
      " |-- popularity: float (nullable = true)\n",
      " |-- release_date: date (nullable = true)\n",
      " |-- revenue: float (nullable = true)\n",
      " |-- title: string (nullable = true)\n",
      " |-- mean_popularity: double (nullable = false)\n",
      " |-- varaiance: double (nullable = true)\n",
      " |-- release_year: integer (nullable = true)\n",
      "\n"
     ]
    }
   ],
   "source": [
    "# Schema of new dataset\n",
    "df.printSchema()"
   ]
  },
  {
   "cell_type": "code",
   "execution_count": 65,
   "metadata": {},
   "outputs": [],
   "source": [
    "# Preparing data for joins\n",
    "df_p1 = df_p1.withColumn('id',df_p1['id'].cast(\"integer\"))\n",
    "df_p1=df_p1.filter((df_p1['id'].isNotNull()) & (~isnan(df_p1['id'])))"
   ]
  },
  {
   "cell_type": "code",
   "execution_count": 66,
   "metadata": {},
   "outputs": [
    {
     "name": "stdout",
     "output_type": "stream",
     "text": [
      "root\n",
      " |-- id: integer (nullable = true)\n",
      " |-- budget: float (nullable = true)\n",
      " |-- popularity: float (nullable = true)\n",
      " |-- release_date: date (nullable = true)\n",
      " |-- revenue: float (nullable = true)\n",
      " |-- title: string (nullable = true)\n",
      " |-- mean_popularity: double (nullable = false)\n",
      " |-- varaiance: double (nullable = true)\n",
      " |-- release_year: integer (nullable = true)\n",
      " |-- cast: string (nullable = true)\n",
      " |-- adult: string (nullable = true)\n",
      " |-- directors: string (nullable = true)\n",
      " |-- vote_count: string (nullable = true)\n",
      " |-- spoken_languages: string (nullable = true)\n",
      " |-- poster_path: string (nullable = true)\n",
      " |-- homepage: string (nullable = true)\n",
      " |-- imdb_id: string (nullable = true)\n",
      " |-- genres: string (nullable = true)\n",
      " |-- video: string (nullable = true)\n",
      " |-- id: integer (nullable = true)\n",
      "\n"
     ]
    },
    {
     "data": {
      "text/plain": [
       "43783"
      ]
     },
     "execution_count": 66,
     "metadata": {},
     "output_type": "execute_result"
    }
   ],
   "source": [
    "# Inner Join\n",
    "df.join(df_p1, df['id'] == df_p1['id'],'inner').printSchema()\n",
    "df.join(df_p1, df['id'] == df_p1['id']).count()"
   ]
  },
  {
   "cell_type": "code",
   "execution_count": 67,
   "metadata": {},
   "outputs": [
    {
     "name": "stdout",
     "output_type": "stream",
     "text": [
      "root\n",
      " |-- id: integer (nullable = true)\n",
      " |-- budget: float (nullable = true)\n",
      " |-- popularity: float (nullable = true)\n",
      " |-- release_date: date (nullable = true)\n",
      " |-- revenue: float (nullable = true)\n",
      " |-- title: string (nullable = true)\n",
      " |-- mean_popularity: double (nullable = false)\n",
      " |-- varaiance: double (nullable = true)\n",
      " |-- release_year: integer (nullable = true)\n",
      " |-- cast: string (nullable = true)\n",
      " |-- adult: string (nullable = true)\n",
      " |-- directors: string (nullable = true)\n",
      " |-- vote_count: string (nullable = true)\n",
      " |-- spoken_languages: string (nullable = true)\n",
      " |-- poster_path: string (nullable = true)\n",
      " |-- homepage: string (nullable = true)\n",
      " |-- imdb_id: string (nullable = true)\n",
      " |-- genres: string (nullable = true)\n",
      " |-- video: string (nullable = true)\n",
      " |-- id: integer (nullable = true)\n",
      "\n"
     ]
    },
    {
     "data": {
      "text/plain": [
       "43998"
      ]
     },
     "execution_count": 67,
     "metadata": {},
     "output_type": "execute_result"
    }
   ],
   "source": [
    "# Left Join\n",
    "df.join(df_p1, df['id'] == df_p1['id'],'left').printSchema()\n",
    "df.join(df_p1, df['id'] == df_p1['id'],'left').count()"
   ]
  },
  {
   "cell_type": "code",
   "execution_count": 68,
   "metadata": {},
   "outputs": [
    {
     "name": "stdout",
     "output_type": "stream",
     "text": [
      "root\n",
      " |-- id: integer (nullable = true)\n",
      " |-- budget: float (nullable = true)\n",
      " |-- popularity: float (nullable = true)\n",
      " |-- release_date: date (nullable = true)\n",
      " |-- revenue: float (nullable = true)\n",
      " |-- title: string (nullable = true)\n",
      " |-- mean_popularity: double (nullable = true)\n",
      " |-- varaiance: double (nullable = true)\n",
      " |-- release_year: integer (nullable = true)\n",
      " |-- cast: string (nullable = true)\n",
      " |-- adult: string (nullable = true)\n",
      " |-- directors: string (nullable = true)\n",
      " |-- vote_count: string (nullable = true)\n",
      " |-- spoken_languages: string (nullable = true)\n",
      " |-- poster_path: string (nullable = true)\n",
      " |-- homepage: string (nullable = true)\n",
      " |-- imdb_id: string (nullable = true)\n",
      " |-- genres: string (nullable = true)\n",
      " |-- video: string (nullable = true)\n",
      " |-- id: integer (nullable = true)\n",
      "\n"
     ]
    },
    {
     "data": {
      "text/plain": [
       "43783"
      ]
     },
     "execution_count": 68,
     "metadata": {},
     "output_type": "execute_result"
    }
   ],
   "source": [
    "# Right Join\n",
    "df.join(df_p1, df['id'] == df_p1['id'],'right').printSchema()\n",
    "df.join(df_p1, df['id'] == df_p1['id'],'right').count()"
   ]
  },
  {
   "cell_type": "code",
   "execution_count": 69,
   "metadata": {},
   "outputs": [
    {
     "name": "stdout",
     "output_type": "stream",
     "text": [
      "root\n",
      " |-- id: integer (nullable = true)\n",
      " |-- budget: float (nullable = true)\n",
      " |-- popularity: float (nullable = true)\n",
      " |-- release_date: date (nullable = true)\n",
      " |-- revenue: float (nullable = true)\n",
      " |-- title: string (nullable = true)\n",
      " |-- mean_popularity: double (nullable = true)\n",
      " |-- varaiance: double (nullable = true)\n",
      " |-- release_year: integer (nullable = true)\n",
      " |-- cast: string (nullable = true)\n",
      " |-- adult: string (nullable = true)\n",
      " |-- directors: string (nullable = true)\n",
      " |-- vote_count: string (nullable = true)\n",
      " |-- spoken_languages: string (nullable = true)\n",
      " |-- poster_path: string (nullable = true)\n",
      " |-- homepage: string (nullable = true)\n",
      " |-- imdb_id: string (nullable = true)\n",
      " |-- genres: string (nullable = true)\n",
      " |-- video: string (nullable = true)\n",
      " |-- id: integer (nullable = true)\n",
      "\n"
     ]
    },
    {
     "data": {
      "text/plain": [
       "43998"
      ]
     },
     "execution_count": 69,
     "metadata": {},
     "output_type": "execute_result"
    }
   ],
   "source": [
    "# Outer Join\n",
    "df.join(df_p1, df['id'] == df_p1['id'],'outer').printSchema()\n",
    "df.join(df_p1, df['id'] == df_p1['id'],'outer').count()\n"
   ]
  },
  {
   "cell_type": "code",
   "execution_count": 70,
   "metadata": {},
   "outputs": [
    {
     "name": "stdout",
     "output_type": "stream",
     "text": [
      "root\n",
      " |-- id: integer (nullable = true)\n",
      " |-- budget: float (nullable = true)\n",
      " |-- popularity: float (nullable = true)\n",
      " |-- release_date: date (nullable = true)\n",
      " |-- revenue: float (nullable = true)\n",
      " |-- title: string (nullable = true)\n",
      " |-- mean_popularity: double (nullable = false)\n",
      " |-- varaiance: double (nullable = true)\n",
      " |-- release_year: integer (nullable = true)\n",
      "\n"
     ]
    },
    {
     "data": {
      "text/plain": [
       "215"
      ]
     },
     "execution_count": 70,
     "metadata": {},
     "output_type": "execute_result"
    }
   ],
   "source": [
    "# Left Anti Join\n",
    "df.join(df_p1, df['id'] == df_p1['id'],'left_anti').printSchema()\n",
    "df.join(df_p1, df['id'] == df_p1['id'],'left_anti').count()\n"
   ]
  },
  {
   "cell_type": "code",
   "execution_count": 71,
   "metadata": {},
   "outputs": [
    {
     "name": "stdout",
     "output_type": "stream",
     "text": [
      "root\n",
      " |-- id: integer (nullable = true)\n",
      " |-- budget: float (nullable = true)\n",
      " |-- popularity: float (nullable = true)\n",
      " |-- release_date: date (nullable = true)\n",
      " |-- revenue: float (nullable = true)\n",
      " |-- title: string (nullable = true)\n",
      " |-- mean_popularity: double (nullable = false)\n",
      " |-- varaiance: double (nullable = true)\n",
      " |-- release_year: integer (nullable = true)\n",
      "\n"
     ]
    },
    {
     "data": {
      "text/plain": [
       "43783"
      ]
     },
     "execution_count": 71,
     "metadata": {},
     "output_type": "execute_result"
    }
   ],
   "source": [
    "# Left Semi Join\n",
    "df.join(df_p1, df['id'] == df_p1['id'],'left_semi').printSchema()\n",
    "df.join(df_p1, df['id'] == df_p1['id'],'left_semi').count()\n"
   ]
  },
  {
   "cell_type": "code",
   "execution_count": 72,
   "metadata": {},
   "outputs": [
    {
     "data": {
      "text/plain": [
       "43783"
      ]
     },
     "execution_count": 72,
     "metadata": {},
     "output_type": "execute_result"
    }
   ],
   "source": [
    "# Broadcast Join\n",
    "df.join(broadcast(df_p1), df['id'] == df_p1['id'],'left_semi').count()"
   ]
  },
  {
   "cell_type": "code",
   "execution_count": 73,
   "metadata": {},
   "outputs": [
    {
     "data": {
      "text/plain": [
       "43998"
      ]
     },
     "execution_count": 73,
     "metadata": {},
     "output_type": "execute_result"
    }
   ],
   "source": [
    "# Original data count\n",
    "df.count()"
   ]
  },
  {
   "cell_type": "code",
   "execution_count": 74,
   "metadata": {},
   "outputs": [
    {
     "data": {
      "text/plain": [
       "43643"
      ]
     },
     "execution_count": 74,
     "metadata": {},
     "output_type": "execute_result"
    }
   ],
   "source": [
    "# Drop Duplicates Demonstration\n",
    "df.dropDuplicates(['title','release_year']).count()"
   ]
  },
  {
   "cell_type": "code",
   "execution_count": 75,
   "metadata": {},
   "outputs": [],
   "source": [
    "# Histogram Demonstration\n",
    "%matplotlib inline\n",
    "import pandas as pd\n",
    "from matplotlib import pyplot as plt\n",
    "import seaborn as sns\n",
    "# Processing the data in Spark. We can use the histogram function from the RDD \n",
    "histogram_data = df.select('popularity').rdd.flatMap(lambda x: x).histogram(25)\n",
    "# Loading the Computed Histogram into a Pandas Dataframe for plotting\n",
    "hist_df=pd.DataFrame(list(zip(*histogram_data)), columns=['bin', 'frequency'])"
   ]
  },
  {
   "cell_type": "code",
   "execution_count": 76,
   "metadata": {},
   "outputs": [
    {
     "data": {
      "image/png": "[encoded data removed]",
      "text/plain": [
       "<Figure size 842.4x595.44 with 1 Axes>"
      ]
     },
     "metadata": {},
     "output_type": "display_data"
    }
   ],
   "source": [
    "# Plotting\n",
    "sns.set(rc={'figure.figsize':(11.7,8.27)})\n",
    "sns.barplot(hist_df['bin'],hist_df['frequency'])\n",
    "plt.xticks(rotation=25)\n",
    "plt.title('Distribution of Popularity')\n",
    "plt.show()\n",
    "# plt.savefig('myimage.svg', format='svg', dpi=1200)"
   ]
  },
  {
   "cell_type": "code",
   "execution_count": 77,
   "metadata": {},
   "outputs": [
    {
     "data": {
      "image/png": "[encoded data removed]",
      "text/plain": [
       "<Figure size 842.4x595.44 with 1 Axes>"
      ]
     },
     "metadata": {},
     "output_type": "display_data"
    }
   ],
   "source": [
    "# Filtering the data to get a better understanding of data\n",
    "df_fil=df.filter('popularity<22')\n",
    "# Processing the data in Spark. We can use the histogram function from the RDD \n",
    "histogram_data = df_fil.select('popularity').rdd.flatMap(lambda x: x).histogram(25)\n",
    "# Loading the Computed Histogram into a Pandas Dataframe for plotting\n",
    "hist_df=pd.DataFrame(list(zip(*histogram_data)), columns=['bin', 'frequency'])\n",
    "\n",
    "sns.set(rc={'figure.figsize':(11.7,8.27)})\n",
    "sns.barplot(hist_df['bin'],hist_df['frequency'])\n",
    "plt.xticks(rotation=25)\n",
    "plt.title('Distribution of Popularity - Data is filtered')\n",
    "plt.show()\n",
    "# plt.savefig('myimage1.svg', format='svg', dpi=1200)"
   ]
  },
  {
   "cell_type": "code",
   "execution_count": 78,
   "metadata": {},
   "outputs": [],
   "source": [
    "# Data preparation for bar chart\n",
    "df_cat=df.filter(\"(release_year>1959) and (release_year<1971)\").groupby('release_year').count().toPandas()\n",
    "df_cat=df_cat.sort_values(by=['release_year'], ascending=False)\n"
   ]
  },
  {
   "cell_type": "code",
   "execution_count": 79,
   "metadata": {},
   "outputs": [
    {
     "data": {
      "image/png": "[encoded data removed]",
      "text/plain": [
       "<Figure size 842.4x595.44 with 1 Axes>"
      ]
     },
     "metadata": {},
     "output_type": "display_data"
    }
   ],
   "source": [
    "#Plotting\n",
    "sns.set(rc={'figure.figsize':(11.7,8.27)})\n",
    "sns.barplot(df_cat['release_year'],df_cat['count'])\n",
    "plt.xticks(rotation=25)\n",
    "plt.title('Number of films released each year from 1960 to 1970 in our dataset')\n",
    "plt.show()\n",
    "# plt.savefig('myimage2.svg', format='svg', dpi=1200)"
   ]
  }
 ],
 "metadata": {
  "kernelspec": {
   "display_name": "Python 3",
   "language": "python",
   "name": "python3"
  },
  "language_info": {
   "codemirror_mode": {
    "name": "ipython",
    "version": 3
   },
   "file_extension": ".py",
   "mimetype": "text/x-python",
   "name": "python",
   "nbconvert_exporter": "python",
   "pygments_lexer": "ipython3",
   "version": "3.8.3"
  }
 },
 "nbformat": 4,
 "nbformat_minor": 4
}
