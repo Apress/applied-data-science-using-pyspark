{
 "cells": [
  {
   "cell_type": "markdown",
   "metadata": {},
   "source": [
    "# Default Parameters"
   ]
  },
  {
   "cell_type": "code",
   "execution_count": null,
   "metadata": {},
   "outputs": [],
   "source": [
    "filename = \"bank-full.csv\"\n",
    "target_variable_name = \"y\""
   ]
  },
  {
   "cell_type": "markdown",
   "metadata": {},
   "source": [
    "# Load Dataset"
   ]
  },
  {
   "cell_type": "code",
   "execution_count": null,
   "metadata": {},
   "outputs": [],
   "source": [
    "from pyspark.sql import SparkSession\n",
    "spark = SparkSession.builder.getOrCreate()\n",
    "df = spark.read.csv(filename, header=True, inferSchema=True, sep=';')\n",
    "df.show()"
   ]
  },
  {
   "cell_type": "code",
   "execution_count": null,
   "metadata": {},
   "outputs": [],
   "source": [
    "from pyspark.sql import functions as F\n",
    "\n",
    "df = df.withColumn('label', F.when(F.col(\"y\") == 'yes', 1).otherwise(0))\n",
    "df = df.drop('y')"
   ]
  },
  {
   "cell_type": "markdown",
   "metadata": {},
   "source": [
    "# Simple Random sampling"
   ]
  },
  {
   "cell_type": "code",
   "execution_count": null,
   "metadata": {},
   "outputs": [],
   "source": [
    "train, test = df.randomSplit([0.7, 0.3], seed=12345)"
   ]
  },
  {
   "cell_type": "code",
   "execution_count": null,
   "metadata": {},
   "outputs": [],
   "source": [
    "for k, v in df.dtypes:\n",
    "    if v not in ['string']:\n",
    "        print(k)"
   ]
  },
  {
   "cell_type": "code",
   "execution_count": null,
   "metadata": {},
   "outputs": [],
   "source": [
    "df = df.select(['age', 'balance', 'day', 'duration', 'campaign', 'pdays', 'previous', 'label'])"
   ]
  },
  {
   "cell_type": "code",
   "execution_count": null,
   "metadata": {},
   "outputs": [],
   "source": [
    "from pyspark.ml.feature import VectorAssembler\n",
    "from pyspark.ml import Pipeline\n",
    "\n",
    "#assemble individual columns to one column - 'features'\n",
    "def assemble_vectors(df, features_list, target_variable_name):\n",
    "    stages = []\n",
    "    #assemble vectors\n",
    "    assembler = VectorAssembler(inputCols=features_list, outputCol='features')\n",
    "    stages = [assembler]\n",
    "    #select all the columns + target + newly created 'features' column\n",
    "    selectedCols = [target_variable_name, 'features']\n",
    "    #use pipeline to process sequentially\n",
    "    pipeline = Pipeline(stages=stages)\n",
    "    #assembler model\n",
    "    assembleModel = pipeline.fit(df)\n",
    "    #apply assembler model on data\n",
    "    df = assembleModel.transform(df).select(selectedCols)\n",
    "\n",
    "    return df"
   ]
  },
  {
   "cell_type": "code",
   "execution_count": null,
   "metadata": {},
   "outputs": [],
   "source": [
    "#exclude target variable and select all other feature vectors\n",
    "features_list = df.columns\n",
    "#features_list = char_vars #this option is used only for ChiSqselector\n",
    "features_list.remove('label')"
   ]
  },
  {
   "cell_type": "code",
   "execution_count": null,
   "metadata": {},
   "outputs": [],
   "source": [
    "# apply the function on our dataframe\n",
    "assembled_df = assemble_vectors(train, features_list, 'label')"
   ]
  },
  {
   "cell_type": "code",
   "execution_count": null,
   "metadata": {},
   "outputs": [],
   "source": [
    "from pyspark.ml.evaluation import BinaryClassificationEvaluator\n",
    "from pyspark.ml.classification import LogisticRegression\n",
    "from pyspark.ml.tuning import ParamGridBuilder, TrainValidationSplit\n",
    "\n",
    "lr = LogisticRegression(maxIter=10, featuresCol='features', labelCol='label')\n",
    "paramGrid = ParamGridBuilder().addGrid(lr.regParam, [0.1, 0.01]).addGrid(lr.elasticNetParam, [0.0, 0.5, 1.0]).build()\n",
    "train_valid_clf = TrainValidationSplit(estimator=lr, estimatorParamMaps=paramGrid, evaluator=BinaryClassificationEvaluator(),\n",
    "                           # 70% of the data will be used for training, 30% for validation.\n",
    "                           trainRatio=0.7)\n",
    "model = train_valid_clf.fit(assembled_df)"
   ]
  },
  {
   "cell_type": "markdown",
   "metadata": {},
   "source": [
    "# Stratified Sampling"
   ]
  },
  {
   "cell_type": "code",
   "execution_count": null,
   "metadata": {},
   "outputs": [],
   "source": [
    "# split data for 0s and 1s\n",
    "zero_df = df.filter(df[\"label\"]==0)\n",
    "one_df = df.filter(df[\"label\"]==1)\n",
    "\n",
    "# split data into train and test\n",
    "train_zero, test_zero = zero_df.randomSplit([0.7,0.3], seed=12345)\n",
    "train_one, test_one = one_df.randomSplit([0.7,0.3], seed=12345)\n",
    "\n",
    "# union datasets\n",
    "train = train_zero.union(train_one)\n",
    "test = test_zero.union(test_one)"
   ]
  },
  {
   "cell_type": "markdown",
   "metadata": {},
   "source": [
    "# Holdout"
   ]
  },
  {
   "cell_type": "code",
   "execution_count": null,
   "metadata": {},
   "outputs": [],
   "source": [
    "train, test, holdout = df.randomSplit([0.7, 0.2, 0.1], seed=12345)"
   ]
  },
  {
   "cell_type": "code",
   "execution_count": null,
   "metadata": {},
   "outputs": [],
   "source": [
    "train.count(), test.count(), holdout.count()"
   ]
  },
  {
   "cell_type": "markdown",
   "metadata": {},
   "source": [
    "$$PSI=\\sum (Actual \\% - Expected\\%) * ln( \\frac{Actual\\%}{Expected\\%})$$"
   ]
  },
  {
   "cell_type": "markdown",
   "metadata": {},
   "source": [
    "# k-fold cross validation"
   ]
  },
  {
   "cell_type": "code",
   "execution_count": null,
   "metadata": {},
   "outputs": [],
   "source": [
    "from pyspark.ml.evaluation import BinaryClassificationEvaluator\n",
    "from pyspark.ml.classification import LogisticRegression\n",
    "from pyspark.ml.tuning import ParamGridBuilder, CrossValidator\n",
    "\n",
    "#model initialization\n",
    "lr = LogisticRegression(maxIter=10, featuresCol='features', labelCol='label')\n",
    "\n",
    "#model parameters to try\n",
    "paramGrid = ParamGridBuilder().addGrid(lr.regParam, [0.1, 0.01]).addGrid(lr.elasticNetParam, [0.0, 0.5, 1.0]).build()\n",
    "\n",
    "# number of folds = 3\n",
    "crossval_clf = CrossValidator(estimator=lr, estimatorParamMaps=paramGrid, \n",
    "                                 evaluator=BinaryClassificationEvaluator(), numFolds=3, )\n",
    "\n",
    "# assembled_df is the output of the vector assembler\n",
    "model = crossval_clf.fit(assembled_df)"
   ]
  },
  {
   "cell_type": "markdown",
   "metadata": {},
   "source": [
    "# Leave-one-group out cross validation"
   ]
  },
  {
   "cell_type": "code",
   "execution_count": null,
   "metadata": {},
   "outputs": [],
   "source": [
    "from pyspark.sql import SparkSession\n",
    "from pyspark.ml.feature import VectorAssembler\n",
    "from pyspark.ml import Pipeline\n",
    "from pyspark.sql.functions import countDistinct\n",
    "from pyspark.ml.classification import LogisticRegression\n",
    "from pyspark.ml.evaluation import BinaryClassificationEvaluator\n",
    "from pyspark.sql import functions as F\n",
    "import numpy as np\n",
    "\n",
    "filename = \"bank-full.csv\"\n",
    "spark = SparkSession.builder.getOrCreate()\n",
    "df = spark.read.csv(filename, header=True, inferSchema=True, sep=';')\n",
    "df = df.withColumn('label', F.when(F.col(\"y\") == 'yes', 1).otherwise(0))\n",
    "df = df.drop('y')\n",
    "df = df.select(['education', 'age', 'balance', 'day', 'duration', 'campaign', 'pdays', 'previous', 'label'])\n",
    "features_list = ['age', 'balance', 'day', 'duration', 'campaign', 'pdays', 'previous'] \n",
    "\n",
    "#assemble individual columns to one column - 'features'\n",
    "def assemble_vectors(df, features_list, target_variable_name, group_variable_name):\n",
    "    stages = []\n",
    "    #assemble vectors\n",
    "    assembler = VectorAssembler(inputCols=features_list, outputCol='features')\n",
    "    stages = [assembler]\n",
    "    #select all the columns + target + newly created 'features' column\n",
    "    selectedCols = [group_variable_name, target_variable_name, 'features']\n",
    "\n",
    "    #use pipeline to process sequentially\n",
    "    pipeline = Pipeline(stages=stages)\n",
    "    #assembler model\n",
    "    assembleModel = pipeline.fit(df)\n",
    "    #apply assembler model on data\n",
    "    df = assembleModel.transform(df).select(selectedCols)\n",
    "\n",
    "    return df\n",
    "\n",
    "# apply the function on our dataframe\n",
    "joined_df = assemble_vectors(df, features_list, 'label', 'education')\n",
    "groups = list(joined_df.select('education').toPandas()['education'].unique())\n",
    "\n",
    "# leave one group out validation \n",
    "def leave_one_group_out_validator(df, var_name, groups):\n",
    "    \n",
    "    train_metric_score = []\n",
    "    test_metric_score = []\n",
    "    \n",
    "    for i in groups:\n",
    "        train = df.filter(df[var_name]!=i)\n",
    "        test = df.filter(df[var_name]==i)\n",
    "    \n",
    "        #model initialization\n",
    "        lr = LogisticRegression(maxIter=10, featuresCol='features', labelCol='label')\n",
    "        evaluator = BinaryClassificationEvaluator(labelCol='label', rawPredictionCol='rawPrediction', \n",
    "                                                  metricName='areaUnderROC')\n",
    "        #fit model\n",
    "        lrModel = lr.fit(train)\n",
    "\n",
    "        #make predicitons\n",
    "        predict_train = lrModel.transform(train)\n",
    "        predict_test = lrModel.transform(test)\n",
    "        \n",
    "        train_metric_score.append(evaluator.evaluate(predict_train))\n",
    "        test_metric_score.append(evaluator.evaluate(predict_test))\n",
    "        print(str(i) + \" Group evaluation\")\n",
    "        print(\" Train AUC - \", train_metric_score[-1])\n",
    "        print(\" Test AUC - \", test_metric_score[-1])\n",
    "        \n",
    "    print('Final evaluation for model')\n",
    "    print('Train ROC', np.mean(train_metric_score))\n",
    "    print('Test ROC', np.mean(test_metric_score))"
   ]
  },
  {
   "cell_type": "code",
   "execution_count": null,
   "metadata": {},
   "outputs": [],
   "source": [
    "leave_one_group_out_validator(joined_df, 'education', groups)"
   ]
  },
  {
   "cell_type": "markdown",
   "metadata": {},
   "source": [
    "# Regression models"
   ]
  },
  {
   "cell_type": "code",
   "execution_count": null,
   "metadata": {},
   "outputs": [],
   "source": [
    "from pyspark.sql import SparkSession\n",
    "spark = SparkSession.builder.getOrCreate()"
   ]
  },
  {
   "cell_type": "code",
   "execution_count": null,
   "metadata": {},
   "outputs": [],
   "source": [
    "from pyspark.sql.types import IntegerType\n",
    "from pyspark.sql.types import StructField, StructType\n",
    "\n",
    "cSchema = StructType([StructField(\"x1\", IntegerType())\\\n",
    "                      ,StructField(\"x2\", IntegerType())\\\n",
    "                      ,StructField(\"y\", IntegerType())])\n",
    "\n",
    "df_list = [[58, 50, 12], [37, 95, 27], [29, 137, 39], [19, 150, 45]]\n",
    "\n",
    "\n",
    "df = spark.createDataFrame(df_list, schema=cSchema)\n",
    "df.show()"
   ]
  },
  {
   "cell_type": "code",
   "execution_count": null,
   "metadata": {},
   "outputs": [],
   "source": [
    "assembled_df = assemble_vectors(df, ['x1'], 'y')"
   ]
  },
  {
   "cell_type": "code",
   "execution_count": null,
   "metadata": {},
   "outputs": [],
   "source": [
    "from pyspark.ml.regression import LinearRegression\n",
    "\n",
    "reg = LinearRegression(featuresCol='features', labelCol='y')"
   ]
  },
  {
   "cell_type": "code",
   "execution_count": null,
   "metadata": {},
   "outputs": [],
   "source": [
    "reg_model = reg.fit(assembled_df)"
   ]
  },
  {
   "cell_type": "code",
   "execution_count": null,
   "metadata": {},
   "outputs": [],
   "source": [
    "print(reg_model.coefficients[0], reg_model.intercept)"
   ]
  },
  {
   "cell_type": "code",
   "execution_count": null,
   "metadata": {},
   "outputs": [],
   "source": [
    "pred_result = reg_model.transform(assembled_df)"
   ]
  },
  {
   "cell_type": "code",
   "execution_count": null,
   "metadata": {},
   "outputs": [],
   "source": [
    "reg_summary = reg_model.summary\n",
    "\n",
    "print('Mean Squared error', reg_summary.meanSquaredError)\n",
    "print('Root mean squared error', reg_summary.rootMeanSquaredError)\n",
    "print('Mean Absolute error', reg_summary.meanAbsoluteError)\n",
    "print('Explained Variance', reg_summary.explainedVariance)\n",
    "print('R squared', reg_summary.r2)"
   ]
  },
  {
   "cell_type": "markdown",
   "metadata": {},
   "source": [
    "# Mean square error"
   ]
  },
  {
   "cell_type": "code",
   "execution_count": null,
   "metadata": {},
   "outputs": [],
   "source": [
    "from pyspark.ml.evaluation import RegressionEvaluator\n",
    "evaluator = RegressionEvaluator(labelCol='y', predictionCol='prediction', metricName='mse')"
   ]
  },
  {
   "cell_type": "code",
   "execution_count": null,
   "metadata": {},
   "outputs": [],
   "source": [
    "evaluator.evaluate(pred_result)"
   ]
  },
  {
   "cell_type": "markdown",
   "metadata": {},
   "source": [
    "# Root Mean Square error"
   ]
  },
  {
   "cell_type": "code",
   "execution_count": null,
   "metadata": {},
   "outputs": [],
   "source": [
    "evaluator = RegressionEvaluator(labelCol='y', predictionCol='prediction', metricName='rmse')\n",
    "evaluator.evaluate(pred_result)"
   ]
  },
  {
   "cell_type": "markdown",
   "metadata": {},
   "source": [
    "# Mean absolute error"
   ]
  },
  {
   "cell_type": "code",
   "execution_count": null,
   "metadata": {},
   "outputs": [],
   "source": [
    "evaluator = RegressionEvaluator(labelCol='y', predictionCol='prediction', metricName='mae')\n",
    "evaluator.evaluate(pred_result)"
   ]
  },
  {
   "cell_type": "markdown",
   "metadata": {},
   "source": [
    "# Explained Variance"
   ]
  },
  {
   "cell_type": "code",
   "execution_count": null,
   "metadata": {},
   "outputs": [],
   "source": [
    "# option available for Pyspark 3.0 and above\n",
    "evaluator = RegressionEvaluator(labelCol='y', predictionCol='prediction', metricName='var')\n",
    "evaluator.evaluate(pred_result)"
   ]
  },
  {
   "cell_type": "code",
   "execution_count": null,
   "metadata": {},
   "outputs": [],
   "source": [
    "# PySpark < 3.0\n",
    "print('Explained Variance', reg_summary.explainedVariance)"
   ]
  },
  {
   "cell_type": "code",
   "execution_count": null,
   "metadata": {},
   "outputs": [],
   "source": [
    "1 - 4"
   ]
  },
  {
   "cell_type": "markdown",
   "metadata": {},
   "source": [
    "# R- Squared"
   ]
  },
  {
   "cell_type": "code",
   "execution_count": null,
   "metadata": {},
   "outputs": [],
   "source": [
    "1 - (3.303/159.19)"
   ]
  },
  {
   "cell_type": "code",
   "execution_count": null,
   "metadata": {},
   "outputs": [],
   "source": [
    "evaluator = RegressionEvaluator(labelCol='y', predictionCol='prediction', metricName='r2')\n",
    "evaluator.evaluate(pred_result)\n",
    "print('R squared', reg_summary.r2)"
   ]
  },
  {
   "cell_type": "markdown",
   "metadata": {},
   "source": [
    "# Adjusted R squared"
   ]
  },
  {
   "cell_type": "code",
   "execution_count": null,
   "metadata": {},
   "outputs": [],
   "source": [
    "print('R squared', reg_summary.r2adj)"
   ]
  },
  {
   "cell_type": "code",
   "execution_count": null,
   "metadata": {},
   "outputs": [],
   "source": [
    "1 - (((1-0.97924)*3)/(4-1-1))"
   ]
  },
  {
   "cell_type": "code",
   "execution_count": null,
   "metadata": {},
   "outputs": [],
   "source": [
    "(12 + 27 + 39 + 45)/4"
   ]
  },
  {
   "cell_type": "code",
   "execution_count": null,
   "metadata": {},
   "outputs": [],
   "source": []
  },
  {
   "cell_type": "markdown",
   "metadata": {},
   "source": [
    "# Binary Classification"
   ]
  },
  {
   "cell_type": "code",
   "execution_count": null,
   "metadata": {},
   "outputs": [],
   "source": [
    "from pyspark.sql import SparkSession\n",
    "spark = SparkSession.builder.getOrCreate()\n",
    "\n",
    "from pyspark.ml.feature import VectorAssembler\n",
    "from pyspark.ml import Pipeline\n",
    "\n",
    "#assemble individual columns to one column - 'features'\n",
    "def assemble_vectors(df, features_list, target_variable_name):\n",
    "    stages = []\n",
    "    #assemble vectors\n",
    "    assembler = VectorAssembler(inputCols=features_list, outputCol='features')\n",
    "    stages = [assembler]\n",
    "    #select all the columns + target + newly created 'features' column\n",
    "    selectedCols = [target_variable_name, 'features']\n",
    "    #use pipeline to process sequentially\n",
    "    pipeline = Pipeline(stages=stages)\n",
    "    #assembler model\n",
    "    assembleModel = pipeline.fit(df)\n",
    "    #apply assembler model on data\n",
    "    df = assembleModel.transform(df).select(selectedCols)\n",
    "\n",
    "    return df"
   ]
  },
  {
   "cell_type": "code",
   "execution_count": null,
   "metadata": {},
   "outputs": [],
   "source": [
    "from pyspark.sql.types import IntegerType, DoubleType\n",
    "from pyspark.sql.types import StructField, StructType\n",
    "\n",
    "cSchema = StructType([StructField(\"x1\", IntegerType())\\\n",
    "                      ,StructField(\"x2\", IntegerType())\\\n",
    "                      ,StructField(\"target\", IntegerType())])\n",
    "\n",
    "df_list = [[0, 0, 0], [0, 1, 1], [1, 0, 1], [1, 1, 1]]\n",
    "\n",
    "\n",
    "df = spark.createDataFrame(df_list, schema=cSchema)\n",
    "df.show()\n",
    "\n",
    "assembled_df = assemble_vectors(df, ['x1'], 'target')\n",
    "\n",
    "from pyspark.ml.classification import LogisticRegression\n",
    "\n",
    "clf = LogisticRegression(featuresCol='features', labelCol='target')\n",
    "\n",
    "clf_model = clf.fit(assembled_df)\n",
    "\n",
    "print(clf_model.coefficients[0], clf_model.intercept)\n",
    "\n",
    "pred_result = clf_model.transform(assembled_df)"
   ]
  },
  {
   "cell_type": "code",
   "execution_count": null,
   "metadata": {},
   "outputs": [],
   "source": [
    "pred_result.show()"
   ]
  },
  {
   "cell_type": "code",
   "execution_count": null,
   "metadata": {},
   "outputs": [],
   "source": [
    "from pyspark.mllib.evaluation import BinaryClassificationMetrics, MulticlassMetrics\n",
    "\n",
    "predictionAndTarget = pred_result.select(\"prediction\", \"target\")\n",
    "predictionAndTarget = predictionAndTarget.withColumn(\"target\", predictionAndTarget[\"target\"].cast(DoubleType()))\n",
    "predictionAndTarget = predictionAndTarget.withColumn(\"prediction\", predictionAndTarget[\"prediction\"].cast(DoubleType()))\n",
    "\n",
    "metrics = MulticlassMetrics(predictionAndTarget.rdd.map(tuple))"
   ]
  },
  {
   "cell_type": "code",
   "execution_count": null,
   "metadata": {},
   "outputs": [],
   "source": [
    "# confusion matrix\n",
    "cm = metrics.confusionMatrix().toArray()"
   ]
  },
  {
   "cell_type": "code",
   "execution_count": null,
   "metadata": {},
   "outputs": [],
   "source": [
    "import seaborn as sns\n",
    "import matplotlib.pyplot as plt\n",
    "\n",
    "def make_confusion_matrix_chart(cf_matrix):\n",
    "    \n",
    "    list_values = ['0', '1']\n",
    "\n",
    "    plt.subplot(111)\n",
    "    sns.heatmap(cf_matrix, annot=True, yticklabels=list_values, \n",
    "                                xticklabels=list_values, fmt='g')\n",
    "    plt.ylabel(\"Actual\")\n",
    "    plt.xlabel(\"Pred\")\n",
    "    plt.ylim([0,2])\n",
    "    plt.title('OR Logic Gate predictions')\n",
    "\n",
    "    plt.tight_layout()\n",
    "    return None"
   ]
  },
  {
   "cell_type": "code",
   "execution_count": null,
   "metadata": {},
   "outputs": [],
   "source": [
    "make_confusion_matrix_chart(cm)"
   ]
  },
  {
   "cell_type": "markdown",
   "metadata": {},
   "source": [
    "$$Sigmoid\\ function,\\ Probability=(\\frac{1}{1 + exp(-x)})$$"
   ]
  },
  {
   "cell_type": "markdown",
   "metadata": {},
   "source": [
    "$$Accuracy=(\\frac{TP + TN}{TP + TN + FP + FN})$$"
   ]
  },
  {
   "cell_type": "markdown",
   "metadata": {},
   "source": [
    "$$Precision=(\\frac{TP}{TP + FP})$$"
   ]
  },
  {
   "cell_type": "markdown",
   "metadata": {},
   "source": [
    "$$Recall=(\\frac{TP}{TP + FN})$$"
   ]
  },
  {
   "cell_type": "markdown",
   "metadata": {},
   "source": [
    "$$F1-score=2*(\\frac{Precision*Recall}{Precision + Recall})$$"
   ]
  },
  {
   "cell_type": "markdown",
   "metadata": {},
   "source": [
    "$$Specificity=(\\frac{TN}{TN + FP})=1- FPR$$"
   ]
  },
  {
   "cell_type": "markdown",
   "metadata": {},
   "source": [
    "$$False\\ Positive\\ Rate=(\\frac{FP}{FP + TN})$$"
   ]
  },
  {
   "cell_type": "code",
   "execution_count": null,
   "metadata": {},
   "outputs": [],
   "source": [
    "from pyspark.ml.evaluation import BinaryClassificationEvaluator\n",
    "acc = metrics.accuracy\n",
    "misclassification_rate = 1 - acc\n",
    "precision = metrics.precision(1.0)\n",
    "recall = metrics.recall(1.0)\n",
    "f1 = metrics.fMeasure(1.0)\n",
    "evaluator = BinaryClassificationEvaluator(labelCol='target', rawPredictionCol='rawPrediction', metricName='areaUnderROC')\n",
    "roc = evaluator.evaluate(pred_result)"
   ]
  },
  {
   "cell_type": "code",
   "execution_count": null,
   "metadata": {},
   "outputs": [],
   "source": [
    "print(acc, misclassification_rate, precision, recall, f1, roc)"
   ]
  },
  {
   "cell_type": "code",
   "execution_count": null,
   "metadata": {},
   "outputs": [],
   "source": [
    "from pyspark.mllib.evaluation import BinaryClassificationMetrics\n",
    "\n",
    "class CurveMetrics(BinaryClassificationMetrics):\n",
    "    def __init__(self, *args):\n",
    "        super(CurveMetrics, self).__init__(*args)\n",
    "\n",
    "    def _to_list(self, rdd):\n",
    "        points = []\n",
    "        results_collect = rdd.collect()\n",
    "        for row in results_collect:\n",
    "            points += [(float(row._1()), float(row._2()))]\n",
    "        return points\n",
    "\n",
    "    def get_curve(self, method):\n",
    "        rdd = getattr(self._java_model, method)().toJavaRDD()\n",
    "        return self._to_list(rdd)"
   ]
  },
  {
   "cell_type": "code",
   "execution_count": null,
   "metadata": {},
   "outputs": [],
   "source": [
    "preds = pred_result.select('target','probability').rdd.map(lambda row: (float(row['probability'][1]), float(row['target'])))\n",
    "\n",
    "# Returns as a list (false positive rate, true positive rate)\n",
    "points = CurveMetrics(preds).get_curve('roc')"
   ]
  },
  {
   "cell_type": "code",
   "execution_count": null,
   "metadata": {},
   "outputs": [],
   "source": [
    "import matplotlib.pyplot as plt\n",
    "points = CurveMetrics(preds).get_curve('roc')\n",
    "\n",
    "plt.figure()\n",
    "x_val = [x[0] for x in points]\n",
    "y_val = [x[1] for x in points]\n",
    "plt.title('ROC')\n",
    "plt.xlabel('False Positive Rate (1-Specificity)')\n",
    "plt.ylabel('True Positive Rate (Sensitivity)')\n",
    "plt.plot(x_val, y_val, label = 'AUC = %0.2f' % roc)\n",
    "plt.plot([0, 1], [0, 1], color='red', linestyle='--')\n",
    "plt.legend(loc = 'lower right')"
   ]
  },
  {
   "cell_type": "code",
   "execution_count": null,
   "metadata": {},
   "outputs": [],
   "source": [
    "evaluator = BinaryClassificationEvaluator(labelCol='target', rawPredictionCol='rawPrediction', metricName='areaUnderPR')\n",
    "pr = evaluator.evaluate(pred_result)"
   ]
  },
  {
   "cell_type": "code",
   "execution_count": null,
   "metadata": {},
   "outputs": [],
   "source": [
    "pr"
   ]
  },
  {
   "cell_type": "code",
   "execution_count": null,
   "metadata": {},
   "outputs": [],
   "source": [
    "preds = pred_result.select('target','probability').rdd.map(lambda row: (float(row['probability'][1]), float(row['target'])))\n",
    "points = CurveMetrics(preds).get_curve('pr')\n",
    "\n",
    "plt.figure()\n",
    "x_val = [x[0] for x in points]\n",
    "y_val = [x[1] for x in points]\n",
    "plt.title('PR curve')\n",
    "plt.xlabel('Recall')\n",
    "plt.ylabel('Precision')\n",
    "plt.plot(x_val, y_val, label = 'Average Precision = %0.2f' % pr)\n",
    "plt.plot([0, 1], [0.5, 0.5], color='red', linestyle='--')\n",
    "plt.legend(loc = 'lower right')"
   ]
  },
  {
   "cell_type": "markdown",
   "metadata": {},
   "source": [
    "# Random Value"
   ]
  },
  {
   "cell_type": "code",
   "execution_count": null,
   "metadata": {},
   "outputs": [],
   "source": [
    "from sklearn.metrics import precision_recall_curve, average_precision_score\n",
    "\n",
    "# random target and probabilities\n",
    "rand_y = [random.choice([1, 0]) for i in range(0, 100)]\n",
    "rand_prob = [random.uniform(0, 1) for i in range(0, 100)]\n",
    "rand_precision, rand_recall, _ = precision_recall_curve(rand_y, rand_prob)\n",
    "pr = average_precision_score(rand_y, rand_prob)\n",
    "#plot random predictions\n",
    "plt.figure()\n",
    "plt.title('PR curve')\n",
    "plt.xlabel('Recall')\n",
    "plt.ylabel('Precision')\n",
    "plt.plot(rand_recall, rand_precision, label = 'Average Precision = %0.2f' % pr)\n",
    "plt.plot([0, 1], [0.5, 0.5], color='red', linestyle='--')\n",
    "plt.legend(loc = 'lower right')"
   ]
  },
  {
   "cell_type": "markdown",
   "metadata": {},
   "source": [
    "# KS Statistic"
   ]
  },
  {
   "cell_type": "code",
   "execution_count": 1,
   "metadata": {},
   "outputs": [],
   "source": [
    "from pyspark.sql import SparkSession\n",
    "from pyspark.ml.feature import VectorAssembler\n",
    "from pyspark.ml import Pipeline\n",
    "from pyspark.sql.functions import countDistinct\n",
    "from pyspark.ml.classification import LogisticRegression\n",
    "from pyspark.ml.evaluation import BinaryClassificationEvaluator\n",
    "from pyspark.sql import functions as F\n",
    "import numpy as np\n",
    "\n",
    "filename = \"bank-full.csv\"\n",
    "spark = SparkSession.builder.getOrCreate()\n",
    "df = spark.read.csv(filename, header=True, inferSchema=True, sep=';')\n",
    "df = df.withColumn('label', F.when(F.col(\"y\") == 'yes', 1).otherwise(0))\n",
    "df = df.drop('y')\n",
    "#assemble individual columns to one column - 'features'\n",
    "def assemble_vectors(df, features_list, target_variable_name):\n",
    "    stages = []\n",
    "    #assemble vectors\n",
    "    assembler = VectorAssembler(inputCols=features_list, outputCol='features')\n",
    "    stages = [assembler]\n",
    "    #select all the columns + target + newly created 'features' column\n",
    "    selectedCols = [target_variable_name, 'features']\n",
    "    #use pipeline to process sequentially\n",
    "    pipeline = Pipeline(stages=stages)\n",
    "    #assembler model\n",
    "    assembleModel = pipeline.fit(df)\n",
    "    #apply assembler model on data\n",
    "    df = assembleModel.transform(df).select(selectedCols)\n",
    "\n",
    "    return df\n",
    "\n",
    "df = df.select(['education', 'age', 'balance', 'day', 'duration', 'campaign', 'pdays', 'previous', 'label'])\n",
    "features_list = ['age', 'balance', 'day', 'duration', 'campaign', 'pdays', 'previous'] \n",
    "assembled_df = assemble_vectors(df, features_list, 'label')\n",
    "clf = LogisticRegression(featuresCol='features', labelCol='label')\n",
    "train, test = assembled_df.randomSplit([0.7, 0.3], seed=12345)\n",
    "clf_model = clf.fit(train)"
   ]
  },
  {
   "cell_type": "code",
   "execution_count": 2,
   "metadata": {},
   "outputs": [],
   "source": [
    "from pyspark.sql import Window\n",
    "\n",
    "def create_deciles(df, clf, score, prediction, target, buckets):\n",
    "    \n",
    "    # get predictions from model\n",
    "    pred = clf.transform(df)\n",
    "    #probability of 1's, prediction and target\n",
    "    pred = pred.select(F.col(score), F.col(prediction), F.col(target)).rdd.map(lambda row: (float(row[score][1]), float(row['prediction']), float(row[target])))\n",
    "    predDF = pred.toDF(schema=[score, prediction, target])\n",
    "    # remove ties in scores work around\n",
    "    window = Window.orderBy(F.desc(score))\n",
    "    predDF = predDF.withColumn(\"row_number\", F.row_number().over(window))\n",
    "    predDF.cache()\n",
    "    predDF = predDF.withColumn(\"row_number\", predDF['row_number'].cast(\"double\"))\n",
    "    # partition into 10 buckets\n",
    "    window2 = Window.orderBy(\"row_number\")\n",
    "    final_predDF = predDF.withColumn(\"deciles\", F.ntile(buckets).over(window2))\n",
    "    final_predDF = final_predDF.withColumn(\"deciles\", final_predDF['deciles'].cast(\"int\"))\n",
    "    # create non target column\n",
    "    final_predDF = final_predDF.withColumn(\"non_target\", 1 - final_predDF[target])\n",
    "    final_predDF.cache()    #final predicted df\n",
    "    \n",
    "    #ks calculation starts here\n",
    "    temp_deciles = final_predDF.groupby('deciles').agg(F.sum(target).alias(target)).toPandas()\n",
    "    non_target_cnt = final_predDF.groupby('deciles').agg(F.sum('non_target').alias('non_target')).toPandas()\n",
    "    temp_deciles = temp_deciles.merge(non_target_cnt, on='deciles', how='inner')\n",
    "    temp_deciles = temp_deciles.sort_values(by='deciles', ascending=True)\n",
    "    temp_deciles['total'] = temp_deciles[target] + temp_deciles['non_target']\n",
    "    temp_deciles['target_%'] = (temp_deciles[target] / temp_deciles['total'])*100\n",
    "    temp_deciles['cum_target'] = temp_deciles[target].cumsum()\n",
    "    temp_deciles['cum_non_target'] = temp_deciles['non_target'].cumsum()\n",
    "    temp_deciles['target_dist'] = (temp_deciles['cum_target']/temp_deciles[target].sum())*100\n",
    "    temp_deciles['non_target_dist'] = (temp_deciles['cum_non_target']/temp_deciles['non_target'].sum())*100\n",
    "    temp_deciles['spread'] = temp_deciles['target_dist'] - temp_deciles['non_target_dist']\n",
    "    decile_table=temp_deciles.round(2)\n",
    "    decile_table = decile_table[['deciles', 'total', 'label', 'non_target', 'target_%', 'cum_target', 'cum_non_target', 'target_dist', 'non_target_dist', 'spread']]\n",
    "    print(\"KS Value - \", round(temp_deciles['spread'].max(), 2))\n",
    "    return final_predDF, decile_table"
   ]
  },
  {
   "cell_type": "code",
   "execution_count": 3,
   "metadata": {},
   "outputs": [
    {
     "name": "stdout",
     "output_type": "stream",
     "text": [
      "KS Value -  50.28\n",
      "KS Value -  49.63\n"
     ]
    }
   ],
   "source": [
    "pred_train, train_deciles = create_deciles(train, clf_model, 'probability', 'prediction', 'label', 10)\n",
    "pred_test, test_deciles = create_deciles(test, clf_model, 'probability', 'prediction', 'label', 10)"
   ]
  },
  {
   "cell_type": "code",
   "execution_count": 4,
   "metadata": {},
   "outputs": [],
   "source": [
    "from collections import OrderedDict\n",
    "import pandas as pd\n",
    "import sys\n",
    "%matplotlib inline\n",
    "    \n",
    "def plot_pandas_style(styler):\n",
    "    from IPython.core.display import HTML\n",
    "    html = '\\n'.join([line.lstrip() for line in styler.render().split('\\n')])\n",
    "    return HTML(html)\n",
    "\n",
    "def highlight_max(s,color='yellow'):\n",
    "    '''\n",
    "    highlight the maximum in a Series yellow.\n",
    "    '''\n",
    "    is_max = s == s.max()\n",
    "    return ['background-color: {}'.format(color) if v else '' for v in is_max]\n",
    "\n",
    "def decile_labels(agg1, target, color='skyblue'):\n",
    "    agg1 = agg1.round(2)\n",
    "    agg1 = agg1.style.apply(highlight_max, color = 'yellow', subset=['spread']).set_precision(2)\n",
    "    agg1.bar(subset=[target], color='{}'.format(color), vmin=0)\n",
    "    agg1.bar(subset=['total'], color='{}'.format(color), vmin=0)\n",
    "    agg1.bar(subset=['target_%'], color='{}'.format(color), vmin=0)\n",
    "    return agg1"
   ]
  },
  {
   "cell_type": "code",
   "execution_count": 5,
   "metadata": {},
   "outputs": [
    {
     "data": {
      "text/html": [
       "<style  type=\"text/css\" >\n",
       "#T_915a5b44_dbc0_11ea_9eb6_0242ac110003row0_col1 {\n",
       "width:  10em;\n",
       "height:  80%;\n",
       "background:  linear-gradient(90deg,skyblue 100.0%, transparent 100.0%);\n",
       "}    #T_915a5b44_dbc0_11ea_9eb6_0242ac110003row0_col2 {\n",
       "width:  10em;\n",
       "height:  80%;\n",
       "background:  linear-gradient(90deg,skyblue 100.0%, transparent 100.0%);\n",
       "}    #T_915a5b44_dbc0_11ea_9eb6_0242ac110003row0_col4 {\n",
       "width:  10em;\n",
       "height:  80%;\n",
       "background:  linear-gradient(90deg,skyblue 100.0%, transparent 100.0%);\n",
       "}    #T_915a5b44_dbc0_11ea_9eb6_0242ac110003row1_col1 {\n",
       "width:  10em;\n",
       "height:  80%;\n",
       "background:  linear-gradient(90deg,skyblue 100.0%, transparent 100.0%);\n",
       "}    #T_915a5b44_dbc0_11ea_9eb6_0242ac110003row1_col2 {\n",
       "width:  10em;\n",
       "height:  80%;\n",
       "background:  linear-gradient(90deg,skyblue 50.8%, transparent 50.8%);\n",
       "}    #T_915a5b44_dbc0_11ea_9eb6_0242ac110003row1_col4 {\n",
       "width:  10em;\n",
       "height:  80%;\n",
       "background:  linear-gradient(90deg,skyblue 50.8%, transparent 50.8%);\n",
       "}    #T_915a5b44_dbc0_11ea_9eb6_0242ac110003row2_col1 {\n",
       "width:  10em;\n",
       "height:  80%;\n",
       "background:  linear-gradient(90deg,skyblue 100.0%, transparent 100.0%);\n",
       "}    #T_915a5b44_dbc0_11ea_9eb6_0242ac110003row2_col2 {\n",
       "width:  10em;\n",
       "height:  80%;\n",
       "background:  linear-gradient(90deg,skyblue 33.3%, transparent 33.3%);\n",
       "}    #T_915a5b44_dbc0_11ea_9eb6_0242ac110003row2_col4 {\n",
       "width:  10em;\n",
       "height:  80%;\n",
       "background:  linear-gradient(90deg,skyblue 33.3%, transparent 33.3%);\n",
       "}    #T_915a5b44_dbc0_11ea_9eb6_0242ac110003row2_col9 {\n",
       "background-color:  yellow;\n",
       "}    #T_915a5b44_dbc0_11ea_9eb6_0242ac110003row3_col1 {\n",
       "width:  10em;\n",
       "height:  80%;\n",
       "background:  linear-gradient(90deg,skyblue 100.0%, transparent 100.0%);\n",
       "}    #T_915a5b44_dbc0_11ea_9eb6_0242ac110003row3_col2 {\n",
       "width:  10em;\n",
       "height:  80%;\n",
       "background:  linear-gradient(90deg,skyblue 21.8%, transparent 21.8%);\n",
       "}    #T_915a5b44_dbc0_11ea_9eb6_0242ac110003row3_col4 {\n",
       "width:  10em;\n",
       "height:  80%;\n",
       "background:  linear-gradient(90deg,skyblue 21.8%, transparent 21.8%);\n",
       "}    #T_915a5b44_dbc0_11ea_9eb6_0242ac110003row4_col1 {\n",
       "width:  10em;\n",
       "height:  80%;\n",
       "background:  linear-gradient(90deg,skyblue 100.0%, transparent 100.0%);\n",
       "}    #T_915a5b44_dbc0_11ea_9eb6_0242ac110003row4_col2 {\n",
       "width:  10em;\n",
       "height:  80%;\n",
       "background:  linear-gradient(90deg,skyblue 18.0%, transparent 18.0%);\n",
       "}    #T_915a5b44_dbc0_11ea_9eb6_0242ac110003row4_col4 {\n",
       "width:  10em;\n",
       "height:  80%;\n",
       "background:  linear-gradient(90deg,skyblue 18.0%, transparent 18.0%);\n",
       "}    #T_915a5b44_dbc0_11ea_9eb6_0242ac110003row5_col1 {\n",
       "width:  10em;\n",
       "height:  80%;\n",
       "background:  linear-gradient(90deg,skyblue 100.0%, transparent 100.0%);\n",
       "}    #T_915a5b44_dbc0_11ea_9eb6_0242ac110003row5_col2 {\n",
       "width:  10em;\n",
       "height:  80%;\n",
       "background:  linear-gradient(90deg,skyblue 10.5%, transparent 10.5%);\n",
       "}    #T_915a5b44_dbc0_11ea_9eb6_0242ac110003row5_col4 {\n",
       "width:  10em;\n",
       "height:  80%;\n",
       "background:  linear-gradient(90deg,skyblue 10.5%, transparent 10.5%);\n",
       "}    #T_915a5b44_dbc0_11ea_9eb6_0242ac110003row6_col1 {\n",
       "width:  10em;\n",
       "height:  80%;\n",
       "background:  linear-gradient(90deg,skyblue 100.0%, transparent 100.0%);\n",
       "}    #T_915a5b44_dbc0_11ea_9eb6_0242ac110003row6_col2 {\n",
       "width:  10em;\n",
       "height:  80%;\n",
       "background:  linear-gradient(90deg,skyblue 6.4%, transparent 6.4%);\n",
       "}    #T_915a5b44_dbc0_11ea_9eb6_0242ac110003row6_col4 {\n",
       "width:  10em;\n",
       "height:  80%;\n",
       "background:  linear-gradient(90deg,skyblue 6.4%, transparent 6.4%);\n",
       "}    #T_915a5b44_dbc0_11ea_9eb6_0242ac110003row7_col1 {\n",
       "width:  10em;\n",
       "height:  80%;\n",
       "background:  linear-gradient(90deg,skyblue 100.0%, transparent 100.0%);\n",
       "}    #T_915a5b44_dbc0_11ea_9eb6_0242ac110003row7_col2 {\n",
       "width:  10em;\n",
       "height:  80%;\n",
       "background:  linear-gradient(90deg,skyblue 3.5%, transparent 3.5%);\n",
       "}    #T_915a5b44_dbc0_11ea_9eb6_0242ac110003row7_col4 {\n",
       "width:  10em;\n",
       "height:  80%;\n",
       "background:  linear-gradient(90deg,skyblue 3.5%, transparent 3.5%);\n",
       "}    #T_915a5b44_dbc0_11ea_9eb6_0242ac110003row8_col1 {\n",
       "width:  10em;\n",
       "height:  80%;\n",
       "background:  linear-gradient(90deg,skyblue 100.0%, transparent 100.0%);\n",
       "}    #T_915a5b44_dbc0_11ea_9eb6_0242ac110003row8_col2 {\n",
       "width:  10em;\n",
       "height:  80%;\n",
       "background:  linear-gradient(90deg,skyblue 2.3%, transparent 2.3%);\n",
       "}    #T_915a5b44_dbc0_11ea_9eb6_0242ac110003row8_col4 {\n",
       "width:  10em;\n",
       "height:  80%;\n",
       "background:  linear-gradient(90deg,skyblue 2.3%, transparent 2.3%);\n",
       "}    #T_915a5b44_dbc0_11ea_9eb6_0242ac110003row9_col1 {\n",
       "width:  10em;\n",
       "height:  80%;\n",
       "background:  linear-gradient(90deg,skyblue 100.0%, transparent 100.0%);\n",
       "}    #T_915a5b44_dbc0_11ea_9eb6_0242ac110003row9_col2 {\n",
       "width:  10em;\n",
       "height:  80%;\n",
       "background:  linear-gradient(90deg,skyblue 1.0%, transparent 1.0%);\n",
       "}    #T_915a5b44_dbc0_11ea_9eb6_0242ac110003row9_col4 {\n",
       "width:  10em;\n",
       "height:  80%;\n",
       "background:  linear-gradient(90deg,skyblue 1.0%, transparent 1.0%);\n",
       "}</style><table id=\"T_915a5b44_dbc0_11ea_9eb6_0242ac110003\" ><thead>    <tr>        <th class=\"blank level0\" ></th>        <th class=\"col_heading level0 col0\" >deciles</th>        <th class=\"col_heading level0 col1\" >total</th>        <th class=\"col_heading level0 col2\" >label</th>        <th class=\"col_heading level0 col3\" >non_target</th>        <th class=\"col_heading level0 col4\" >target_%</th>        <th class=\"col_heading level0 col5\" >cum_target</th>        <th class=\"col_heading level0 col6\" >cum_non_target</th>        <th class=\"col_heading level0 col7\" >target_dist</th>        <th class=\"col_heading level0 col8\" >non_target_dist</th>        <th class=\"col_heading level0 col9\" >spread</th>    </tr></thead><tbody>\n",
       "<tr>\n",
       "<th id=\"T_915a5b44_dbc0_11ea_9eb6_0242ac110003level0_row0\" class=\"row_heading level0 row0\" >0</th>\n",
       "<td id=\"T_915a5b44_dbc0_11ea_9eb6_0242ac110003row0_col0\" class=\"data row0 col0\" >1</td>\n",
       "<td id=\"T_915a5b44_dbc0_11ea_9eb6_0242ac110003row0_col1\" class=\"data row0 col1\" >3146.00</td>\n",
       "<td id=\"T_915a5b44_dbc0_11ea_9eb6_0242ac110003row0_col2\" class=\"data row0 col2\" >1497.00</td>\n",
       "<td id=\"T_915a5b44_dbc0_11ea_9eb6_0242ac110003row0_col3\" class=\"data row0 col3\" >1649.00</td>\n",
       "<td id=\"T_915a5b44_dbc0_11ea_9eb6_0242ac110003row0_col4\" class=\"data row0 col4\" >47.58</td>\n",
       "<td id=\"T_915a5b44_dbc0_11ea_9eb6_0242ac110003row0_col5\" class=\"data row0 col5\" >1497.00</td>\n",
       "<td id=\"T_915a5b44_dbc0_11ea_9eb6_0242ac110003row0_col6\" class=\"data row0 col6\" >1649.00</td>\n",
       "<td id=\"T_915a5b44_dbc0_11ea_9eb6_0242ac110003row0_col7\" class=\"data row0 col7\" >40.40</td>\n",
       "<td id=\"T_915a5b44_dbc0_11ea_9eb6_0242ac110003row0_col8\" class=\"data row0 col8\" >5.94</td>\n",
       "<td id=\"T_915a5b44_dbc0_11ea_9eb6_0242ac110003row0_col9\" class=\"data row0 col9\" >34.46</td>\n",
       "</tr>\n",
       "<tr>\n",
       "<th id=\"T_915a5b44_dbc0_11ea_9eb6_0242ac110003level0_row1\" class=\"row_heading level0 row1\" >1</th>\n",
       "<td id=\"T_915a5b44_dbc0_11ea_9eb6_0242ac110003row1_col0\" class=\"data row1 col0\" >2</td>\n",
       "<td id=\"T_915a5b44_dbc0_11ea_9eb6_0242ac110003row1_col1\" class=\"data row1 col1\" >3146.00</td>\n",
       "<td id=\"T_915a5b44_dbc0_11ea_9eb6_0242ac110003row1_col2\" class=\"data row1 col2\" >760.00</td>\n",
       "<td id=\"T_915a5b44_dbc0_11ea_9eb6_0242ac110003row1_col3\" class=\"data row1 col3\" >2386.00</td>\n",
       "<td id=\"T_915a5b44_dbc0_11ea_9eb6_0242ac110003row1_col4\" class=\"data row1 col4\" >24.16</td>\n",
       "<td id=\"T_915a5b44_dbc0_11ea_9eb6_0242ac110003row1_col5\" class=\"data row1 col5\" >2257.00</td>\n",
       "<td id=\"T_915a5b44_dbc0_11ea_9eb6_0242ac110003row1_col6\" class=\"data row1 col6\" >4035.00</td>\n",
       "<td id=\"T_915a5b44_dbc0_11ea_9eb6_0242ac110003row1_col7\" class=\"data row1 col7\" >60.92</td>\n",
       "<td id=\"T_915a5b44_dbc0_11ea_9eb6_0242ac110003row1_col8\" class=\"data row1 col8\" >14.54</td>\n",
       "<td id=\"T_915a5b44_dbc0_11ea_9eb6_0242ac110003row1_col9\" class=\"data row1 col9\" >46.38</td>\n",
       "</tr>\n",
       "<tr>\n",
       "<th id=\"T_915a5b44_dbc0_11ea_9eb6_0242ac110003level0_row2\" class=\"row_heading level0 row2\" >2</th>\n",
       "<td id=\"T_915a5b44_dbc0_11ea_9eb6_0242ac110003row2_col0\" class=\"data row2 col0\" >3</td>\n",
       "<td id=\"T_915a5b44_dbc0_11ea_9eb6_0242ac110003row2_col1\" class=\"data row2 col1\" >3146.00</td>\n",
       "<td id=\"T_915a5b44_dbc0_11ea_9eb6_0242ac110003row2_col2\" class=\"data row2 col2\" >498.00</td>\n",
       "<td id=\"T_915a5b44_dbc0_11ea_9eb6_0242ac110003row2_col3\" class=\"data row2 col3\" >2648.00</td>\n",
       "<td id=\"T_915a5b44_dbc0_11ea_9eb6_0242ac110003row2_col4\" class=\"data row2 col4\" >15.83</td>\n",
       "<td id=\"T_915a5b44_dbc0_11ea_9eb6_0242ac110003row2_col5\" class=\"data row2 col5\" >2755.00</td>\n",
       "<td id=\"T_915a5b44_dbc0_11ea_9eb6_0242ac110003row2_col6\" class=\"data row2 col6\" >6683.00</td>\n",
       "<td id=\"T_915a5b44_dbc0_11ea_9eb6_0242ac110003row2_col7\" class=\"data row2 col7\" >74.36</td>\n",
       "<td id=\"T_915a5b44_dbc0_11ea_9eb6_0242ac110003row2_col8\" class=\"data row2 col8\" >24.08</td>\n",
       "<td id=\"T_915a5b44_dbc0_11ea_9eb6_0242ac110003row2_col9\" class=\"data row2 col9\" >50.28</td>\n",
       "</tr>\n",
       "<tr>\n",
       "<th id=\"T_915a5b44_dbc0_11ea_9eb6_0242ac110003level0_row3\" class=\"row_heading level0 row3\" >3</th>\n",
       "<td id=\"T_915a5b44_dbc0_11ea_9eb6_0242ac110003row3_col0\" class=\"data row3 col0\" >4</td>\n",
       "<td id=\"T_915a5b44_dbc0_11ea_9eb6_0242ac110003row3_col1\" class=\"data row3 col1\" >3146.00</td>\n",
       "<td id=\"T_915a5b44_dbc0_11ea_9eb6_0242ac110003row3_col2\" class=\"data row3 col2\" >326.00</td>\n",
       "<td id=\"T_915a5b44_dbc0_11ea_9eb6_0242ac110003row3_col3\" class=\"data row3 col3\" >2820.00</td>\n",
       "<td id=\"T_915a5b44_dbc0_11ea_9eb6_0242ac110003row3_col4\" class=\"data row3 col4\" >10.36</td>\n",
       "<td id=\"T_915a5b44_dbc0_11ea_9eb6_0242ac110003row3_col5\" class=\"data row3 col5\" >3081.00</td>\n",
       "<td id=\"T_915a5b44_dbc0_11ea_9eb6_0242ac110003row3_col6\" class=\"data row3 col6\" >9503.00</td>\n",
       "<td id=\"T_915a5b44_dbc0_11ea_9eb6_0242ac110003row3_col7\" class=\"data row3 col7\" >83.16</td>\n",
       "<td id=\"T_915a5b44_dbc0_11ea_9eb6_0242ac110003row3_col8\" class=\"data row3 col8\" >34.24</td>\n",
       "<td id=\"T_915a5b44_dbc0_11ea_9eb6_0242ac110003row3_col9\" class=\"data row3 col9\" >48.92</td>\n",
       "</tr>\n",
       "<tr>\n",
       "<th id=\"T_915a5b44_dbc0_11ea_9eb6_0242ac110003level0_row4\" class=\"row_heading level0 row4\" >4</th>\n",
       "<td id=\"T_915a5b44_dbc0_11ea_9eb6_0242ac110003row4_col0\" class=\"data row4 col0\" >5</td>\n",
       "<td id=\"T_915a5b44_dbc0_11ea_9eb6_0242ac110003row4_col1\" class=\"data row4 col1\" >3146.00</td>\n",
       "<td id=\"T_915a5b44_dbc0_11ea_9eb6_0242ac110003row4_col2\" class=\"data row4 col2\" >269.00</td>\n",
       "<td id=\"T_915a5b44_dbc0_11ea_9eb6_0242ac110003row4_col3\" class=\"data row4 col3\" >2877.00</td>\n",
       "<td id=\"T_915a5b44_dbc0_11ea_9eb6_0242ac110003row4_col4\" class=\"data row4 col4\" >8.55</td>\n",
       "<td id=\"T_915a5b44_dbc0_11ea_9eb6_0242ac110003row4_col5\" class=\"data row4 col5\" >3350.00</td>\n",
       "<td id=\"T_915a5b44_dbc0_11ea_9eb6_0242ac110003row4_col6\" class=\"data row4 col6\" >12380.00</td>\n",
       "<td id=\"T_915a5b44_dbc0_11ea_9eb6_0242ac110003row4_col7\" class=\"data row4 col7\" >90.42</td>\n",
       "<td id=\"T_915a5b44_dbc0_11ea_9eb6_0242ac110003row4_col8\" class=\"data row4 col8\" >44.61</td>\n",
       "<td id=\"T_915a5b44_dbc0_11ea_9eb6_0242ac110003row4_col9\" class=\"data row4 col9\" >45.81</td>\n",
       "</tr>\n",
       "<tr>\n",
       "<th id=\"T_915a5b44_dbc0_11ea_9eb6_0242ac110003level0_row5\" class=\"row_heading level0 row5\" >5</th>\n",
       "<td id=\"T_915a5b44_dbc0_11ea_9eb6_0242ac110003row5_col0\" class=\"data row5 col0\" >6</td>\n",
       "<td id=\"T_915a5b44_dbc0_11ea_9eb6_0242ac110003row5_col1\" class=\"data row5 col1\" >3146.00</td>\n",
       "<td id=\"T_915a5b44_dbc0_11ea_9eb6_0242ac110003row5_col2\" class=\"data row5 col2\" >157.00</td>\n",
       "<td id=\"T_915a5b44_dbc0_11ea_9eb6_0242ac110003row5_col3\" class=\"data row5 col3\" >2989.00</td>\n",
       "<td id=\"T_915a5b44_dbc0_11ea_9eb6_0242ac110003row5_col4\" class=\"data row5 col4\" >4.99</td>\n",
       "<td id=\"T_915a5b44_dbc0_11ea_9eb6_0242ac110003row5_col5\" class=\"data row5 col5\" >3507.00</td>\n",
       "<td id=\"T_915a5b44_dbc0_11ea_9eb6_0242ac110003row5_col6\" class=\"data row5 col6\" >15369.00</td>\n",
       "<td id=\"T_915a5b44_dbc0_11ea_9eb6_0242ac110003row5_col7\" class=\"data row5 col7\" >94.66</td>\n",
       "<td id=\"T_915a5b44_dbc0_11ea_9eb6_0242ac110003row5_col8\" class=\"data row5 col8\" >55.38</td>\n",
       "<td id=\"T_915a5b44_dbc0_11ea_9eb6_0242ac110003row5_col9\" class=\"data row5 col9\" >39.28</td>\n",
       "</tr>\n",
       "<tr>\n",
       "<th id=\"T_915a5b44_dbc0_11ea_9eb6_0242ac110003level0_row6\" class=\"row_heading level0 row6\" >6</th>\n",
       "<td id=\"T_915a5b44_dbc0_11ea_9eb6_0242ac110003row6_col0\" class=\"data row6 col0\" >7</td>\n",
       "<td id=\"T_915a5b44_dbc0_11ea_9eb6_0242ac110003row6_col1\" class=\"data row6 col1\" >3146.00</td>\n",
       "<td id=\"T_915a5b44_dbc0_11ea_9eb6_0242ac110003row6_col2\" class=\"data row6 col2\" >96.00</td>\n",
       "<td id=\"T_915a5b44_dbc0_11ea_9eb6_0242ac110003row6_col3\" class=\"data row6 col3\" >3050.00</td>\n",
       "<td id=\"T_915a5b44_dbc0_11ea_9eb6_0242ac110003row6_col4\" class=\"data row6 col4\" >3.05</td>\n",
       "<td id=\"T_915a5b44_dbc0_11ea_9eb6_0242ac110003row6_col5\" class=\"data row6 col5\" >3603.00</td>\n",
       "<td id=\"T_915a5b44_dbc0_11ea_9eb6_0242ac110003row6_col6\" class=\"data row6 col6\" >18419.00</td>\n",
       "<td id=\"T_915a5b44_dbc0_11ea_9eb6_0242ac110003row6_col7\" class=\"data row6 col7\" >97.25</td>\n",
       "<td id=\"T_915a5b44_dbc0_11ea_9eb6_0242ac110003row6_col8\" class=\"data row6 col8\" >66.37</td>\n",
       "<td id=\"T_915a5b44_dbc0_11ea_9eb6_0242ac110003row6_col9\" class=\"data row6 col9\" >30.88</td>\n",
       "</tr>\n",
       "<tr>\n",
       "<th id=\"T_915a5b44_dbc0_11ea_9eb6_0242ac110003level0_row7\" class=\"row_heading level0 row7\" >7</th>\n",
       "<td id=\"T_915a5b44_dbc0_11ea_9eb6_0242ac110003row7_col0\" class=\"data row7 col0\" >8</td>\n",
       "<td id=\"T_915a5b44_dbc0_11ea_9eb6_0242ac110003row7_col1\" class=\"data row7 col1\" >3145.00</td>\n",
       "<td id=\"T_915a5b44_dbc0_11ea_9eb6_0242ac110003row7_col2\" class=\"data row7 col2\" >52.00</td>\n",
       "<td id=\"T_915a5b44_dbc0_11ea_9eb6_0242ac110003row7_col3\" class=\"data row7 col3\" >3093.00</td>\n",
       "<td id=\"T_915a5b44_dbc0_11ea_9eb6_0242ac110003row7_col4\" class=\"data row7 col4\" >1.65</td>\n",
       "<td id=\"T_915a5b44_dbc0_11ea_9eb6_0242ac110003row7_col5\" class=\"data row7 col5\" >3655.00</td>\n",
       "<td id=\"T_915a5b44_dbc0_11ea_9eb6_0242ac110003row7_col6\" class=\"data row7 col6\" >21512.00</td>\n",
       "<td id=\"T_915a5b44_dbc0_11ea_9eb6_0242ac110003row7_col7\" class=\"data row7 col7\" >98.65</td>\n",
       "<td id=\"T_915a5b44_dbc0_11ea_9eb6_0242ac110003row7_col8\" class=\"data row7 col8\" >77.52</td>\n",
       "<td id=\"T_915a5b44_dbc0_11ea_9eb6_0242ac110003row7_col9\" class=\"data row7 col9\" >21.14</td>\n",
       "</tr>\n",
       "<tr>\n",
       "<th id=\"T_915a5b44_dbc0_11ea_9eb6_0242ac110003level0_row8\" class=\"row_heading level0 row8\" >8</th>\n",
       "<td id=\"T_915a5b44_dbc0_11ea_9eb6_0242ac110003row8_col0\" class=\"data row8 col0\" >9</td>\n",
       "<td id=\"T_915a5b44_dbc0_11ea_9eb6_0242ac110003row8_col1\" class=\"data row8 col1\" >3145.00</td>\n",
       "<td id=\"T_915a5b44_dbc0_11ea_9eb6_0242ac110003row8_col2\" class=\"data row8 col2\" >35.00</td>\n",
       "<td id=\"T_915a5b44_dbc0_11ea_9eb6_0242ac110003row8_col3\" class=\"data row8 col3\" >3110.00</td>\n",
       "<td id=\"T_915a5b44_dbc0_11ea_9eb6_0242ac110003row8_col4\" class=\"data row8 col4\" >1.11</td>\n",
       "<td id=\"T_915a5b44_dbc0_11ea_9eb6_0242ac110003row8_col5\" class=\"data row8 col5\" >3690.00</td>\n",
       "<td id=\"T_915a5b44_dbc0_11ea_9eb6_0242ac110003row8_col6\" class=\"data row8 col6\" >24622.00</td>\n",
       "<td id=\"T_915a5b44_dbc0_11ea_9eb6_0242ac110003row8_col7\" class=\"data row8 col7\" >99.60</td>\n",
       "<td id=\"T_915a5b44_dbc0_11ea_9eb6_0242ac110003row8_col8\" class=\"data row8 col8\" >88.72</td>\n",
       "<td id=\"T_915a5b44_dbc0_11ea_9eb6_0242ac110003row8_col9\" class=\"data row8 col9\" >10.87</td>\n",
       "</tr>\n",
       "<tr>\n",
       "<th id=\"T_915a5b44_dbc0_11ea_9eb6_0242ac110003level0_row9\" class=\"row_heading level0 row9\" >9</th>\n",
       "<td id=\"T_915a5b44_dbc0_11ea_9eb6_0242ac110003row9_col0\" class=\"data row9 col0\" >10</td>\n",
       "<td id=\"T_915a5b44_dbc0_11ea_9eb6_0242ac110003row9_col1\" class=\"data row9 col1\" >3145.00</td>\n",
       "<td id=\"T_915a5b44_dbc0_11ea_9eb6_0242ac110003row9_col2\" class=\"data row9 col2\" >15.00</td>\n",
       "<td id=\"T_915a5b44_dbc0_11ea_9eb6_0242ac110003row9_col3\" class=\"data row9 col3\" >3130.00</td>\n",
       "<td id=\"T_915a5b44_dbc0_11ea_9eb6_0242ac110003row9_col4\" class=\"data row9 col4\" >0.48</td>\n",
       "<td id=\"T_915a5b44_dbc0_11ea_9eb6_0242ac110003row9_col5\" class=\"data row9 col5\" >3705.00</td>\n",
       "<td id=\"T_915a5b44_dbc0_11ea_9eb6_0242ac110003row9_col6\" class=\"data row9 col6\" >27752.00</td>\n",
       "<td id=\"T_915a5b44_dbc0_11ea_9eb6_0242ac110003row9_col7\" class=\"data row9 col7\" >100.00</td>\n",
       "<td id=\"T_915a5b44_dbc0_11ea_9eb6_0242ac110003row9_col8\" class=\"data row9 col8\" >100.00</td>\n",
       "<td id=\"T_915a5b44_dbc0_11ea_9eb6_0242ac110003row9_col9\" class=\"data row9 col9\" >0.00</td>\n",
       "</tr>\n",
       "</tbody></table>"
      ],
      "text/plain": [
       "<IPython.core.display.HTML object>"
      ]
     },
     "execution_count": 5,
     "metadata": {},
     "output_type": "execute_result"
    }
   ],
   "source": [
    "plot_decile_train = decile_labels(train_deciles, 'label', color='skyblue')\n",
    "plot_pandas_style(plot_decile_train)"
   ]
  },
  {
   "cell_type": "code",
   "execution_count": 6,
   "metadata": {},
   "outputs": [
    {
     "data": {
      "text/html": [
       "<style  type=\"text/css\" >\n",
       "#T_9161e3dc_dbc0_11ea_9eb6_0242ac110003row0_col1 {\n",
       "width:  10em;\n",
       "height:  80%;\n",
       "background:  linear-gradient(90deg,skyblue 100.0%, transparent 100.0%);\n",
       "}    #T_9161e3dc_dbc0_11ea_9eb6_0242ac110003row0_col2 {\n",
       "width:  10em;\n",
       "height:  80%;\n",
       "background:  linear-gradient(90deg,skyblue 100.0%, transparent 100.0%);\n",
       "}    #T_9161e3dc_dbc0_11ea_9eb6_0242ac110003row0_col4 {\n",
       "width:  10em;\n",
       "height:  80%;\n",
       "background:  linear-gradient(90deg,skyblue 100.0%, transparent 100.0%);\n",
       "}    #T_9161e3dc_dbc0_11ea_9eb6_0242ac110003row1_col1 {\n",
       "width:  10em;\n",
       "height:  80%;\n",
       "background:  linear-gradient(90deg,skyblue 100.0%, transparent 100.0%);\n",
       "}    #T_9161e3dc_dbc0_11ea_9eb6_0242ac110003row1_col2 {\n",
       "width:  10em;\n",
       "height:  80%;\n",
       "background:  linear-gradient(90deg,skyblue 54.6%, transparent 54.6%);\n",
       "}    #T_9161e3dc_dbc0_11ea_9eb6_0242ac110003row1_col4 {\n",
       "width:  10em;\n",
       "height:  80%;\n",
       "background:  linear-gradient(90deg,skyblue 54.6%, transparent 54.6%);\n",
       "}    #T_9161e3dc_dbc0_11ea_9eb6_0242ac110003row2_col1 {\n",
       "width:  10em;\n",
       "height:  80%;\n",
       "background:  linear-gradient(90deg,skyblue 100.0%, transparent 100.0%);\n",
       "}    #T_9161e3dc_dbc0_11ea_9eb6_0242ac110003row2_col2 {\n",
       "width:  10em;\n",
       "height:  80%;\n",
       "background:  linear-gradient(90deg,skyblue 34.0%, transparent 34.0%);\n",
       "}    #T_9161e3dc_dbc0_11ea_9eb6_0242ac110003row2_col4 {\n",
       "width:  10em;\n",
       "height:  80%;\n",
       "background:  linear-gradient(90deg,skyblue 34.0%, transparent 34.0%);\n",
       "}    #T_9161e3dc_dbc0_11ea_9eb6_0242ac110003row2_col9 {\n",
       "background-color:  yellow;\n",
       "}    #T_9161e3dc_dbc0_11ea_9eb6_0242ac110003row3_col1 {\n",
       "width:  10em;\n",
       "height:  80%;\n",
       "background:  linear-gradient(90deg,skyblue 100.0%, transparent 100.0%);\n",
       "}    #T_9161e3dc_dbc0_11ea_9eb6_0242ac110003row3_col2 {\n",
       "width:  10em;\n",
       "height:  80%;\n",
       "background:  linear-gradient(90deg,skyblue 25.0%, transparent 25.0%);\n",
       "}    #T_9161e3dc_dbc0_11ea_9eb6_0242ac110003row3_col4 {\n",
       "width:  10em;\n",
       "height:  80%;\n",
       "background:  linear-gradient(90deg,skyblue 25.0%, transparent 25.0%);\n",
       "}    #T_9161e3dc_dbc0_11ea_9eb6_0242ac110003row4_col1 {\n",
       "width:  10em;\n",
       "height:  80%;\n",
       "background:  linear-gradient(90deg,skyblue 99.9%, transparent 99.9%);\n",
       "}    #T_9161e3dc_dbc0_11ea_9eb6_0242ac110003row4_col2 {\n",
       "width:  10em;\n",
       "height:  80%;\n",
       "background:  linear-gradient(90deg,skyblue 14.3%, transparent 14.3%);\n",
       "}    #T_9161e3dc_dbc0_11ea_9eb6_0242ac110003row4_col4 {\n",
       "width:  10em;\n",
       "height:  80%;\n",
       "background:  linear-gradient(90deg,skyblue 14.3%, transparent 14.3%);\n",
       "}    #T_9161e3dc_dbc0_11ea_9eb6_0242ac110003row5_col1 {\n",
       "width:  10em;\n",
       "height:  80%;\n",
       "background:  linear-gradient(90deg,skyblue 99.9%, transparent 99.9%);\n",
       "}    #T_9161e3dc_dbc0_11ea_9eb6_0242ac110003row5_col2 {\n",
       "width:  10em;\n",
       "height:  80%;\n",
       "background:  linear-gradient(90deg,skyblue 11.0%, transparent 11.0%);\n",
       "}    #T_9161e3dc_dbc0_11ea_9eb6_0242ac110003row5_col4 {\n",
       "width:  10em;\n",
       "height:  80%;\n",
       "background:  linear-gradient(90deg,skyblue 11.0%, transparent 11.0%);\n",
       "}    #T_9161e3dc_dbc0_11ea_9eb6_0242ac110003row6_col1 {\n",
       "width:  10em;\n",
       "height:  80%;\n",
       "background:  linear-gradient(90deg,skyblue 99.9%, transparent 99.9%);\n",
       "}    #T_9161e3dc_dbc0_11ea_9eb6_0242ac110003row6_col2 {\n",
       "width:  10em;\n",
       "height:  80%;\n",
       "background:  linear-gradient(90deg,skyblue 6.4%, transparent 6.4%);\n",
       "}    #T_9161e3dc_dbc0_11ea_9eb6_0242ac110003row6_col4 {\n",
       "width:  10em;\n",
       "height:  80%;\n",
       "background:  linear-gradient(90deg,skyblue 6.4%, transparent 6.4%);\n",
       "}    #T_9161e3dc_dbc0_11ea_9eb6_0242ac110003row7_col1 {\n",
       "width:  10em;\n",
       "height:  80%;\n",
       "background:  linear-gradient(90deg,skyblue 99.9%, transparent 99.9%);\n",
       "}    #T_9161e3dc_dbc0_11ea_9eb6_0242ac110003row7_col2 {\n",
       "width:  10em;\n",
       "height:  80%;\n",
       "background:  linear-gradient(90deg,skyblue 4.7%, transparent 4.7%);\n",
       "}    #T_9161e3dc_dbc0_11ea_9eb6_0242ac110003row7_col4 {\n",
       "width:  10em;\n",
       "height:  80%;\n",
       "background:  linear-gradient(90deg,skyblue 4.7%, transparent 4.7%);\n",
       "}    #T_9161e3dc_dbc0_11ea_9eb6_0242ac110003row8_col1 {\n",
       "width:  10em;\n",
       "height:  80%;\n",
       "background:  linear-gradient(90deg,skyblue 99.9%, transparent 99.9%);\n",
       "}    #T_9161e3dc_dbc0_11ea_9eb6_0242ac110003row8_col2 {\n",
       "width:  10em;\n",
       "height:  80%;\n",
       "background:  linear-gradient(90deg,skyblue 4.2%, transparent 4.2%);\n",
       "}    #T_9161e3dc_dbc0_11ea_9eb6_0242ac110003row8_col4 {\n",
       "width:  10em;\n",
       "height:  80%;\n",
       "background:  linear-gradient(90deg,skyblue 4.2%, transparent 4.2%);\n",
       "}    #T_9161e3dc_dbc0_11ea_9eb6_0242ac110003row9_col1 {\n",
       "width:  10em;\n",
       "height:  80%;\n",
       "background:  linear-gradient(90deg,skyblue 99.9%, transparent 99.9%);\n",
       "}    #T_9161e3dc_dbc0_11ea_9eb6_0242ac110003row9_col2 {\n",
       "width:  10em;\n",
       "height:  80%;\n",
       "background:  linear-gradient(90deg,skyblue 1.0%, transparent 1.0%);\n",
       "}    #T_9161e3dc_dbc0_11ea_9eb6_0242ac110003row9_col4 {\n",
       "width:  10em;\n",
       "height:  80%;\n",
       "background:  linear-gradient(90deg,skyblue 1.0%, transparent 1.0%);\n",
       "}</style><table id=\"T_9161e3dc_dbc0_11ea_9eb6_0242ac110003\" ><thead>    <tr>        <th class=\"blank level0\" ></th>        <th class=\"col_heading level0 col0\" >deciles</th>        <th class=\"col_heading level0 col1\" >total</th>        <th class=\"col_heading level0 col2\" >label</th>        <th class=\"col_heading level0 col3\" >non_target</th>        <th class=\"col_heading level0 col4\" >target_%</th>        <th class=\"col_heading level0 col5\" >cum_target</th>        <th class=\"col_heading level0 col6\" >cum_non_target</th>        <th class=\"col_heading level0 col7\" >target_dist</th>        <th class=\"col_heading level0 col8\" >non_target_dist</th>        <th class=\"col_heading level0 col9\" >spread</th>    </tr></thead><tbody>\n",
       "<tr>\n",
       "<th id=\"T_9161e3dc_dbc0_11ea_9eb6_0242ac110003level0_row0\" class=\"row_heading level0 row0\" >0</th>\n",
       "<td id=\"T_9161e3dc_dbc0_11ea_9eb6_0242ac110003row0_col0\" class=\"data row0 col0\" >1</td>\n",
       "<td id=\"T_9161e3dc_dbc0_11ea_9eb6_0242ac110003row0_col1\" class=\"data row0 col1\" >1376.00</td>\n",
       "<td id=\"T_9161e3dc_dbc0_11ea_9eb6_0242ac110003row0_col2\" class=\"data row0 col2\" >621.00</td>\n",
       "<td id=\"T_9161e3dc_dbc0_11ea_9eb6_0242ac110003row0_col3\" class=\"data row0 col3\" >755.00</td>\n",
       "<td id=\"T_9161e3dc_dbc0_11ea_9eb6_0242ac110003row0_col4\" class=\"data row0 col4\" >45.13</td>\n",
       "<td id=\"T_9161e3dc_dbc0_11ea_9eb6_0242ac110003row0_col5\" class=\"data row0 col5\" >621.00</td>\n",
       "<td id=\"T_9161e3dc_dbc0_11ea_9eb6_0242ac110003row0_col6\" class=\"data row0 col6\" >755.00</td>\n",
       "<td id=\"T_9161e3dc_dbc0_11ea_9eb6_0242ac110003row0_col7\" class=\"data row0 col7\" >39.20</td>\n",
       "<td id=\"T_9161e3dc_dbc0_11ea_9eb6_0242ac110003row0_col8\" class=\"data row0 col8\" >6.20</td>\n",
       "<td id=\"T_9161e3dc_dbc0_11ea_9eb6_0242ac110003row0_col9\" class=\"data row0 col9\" >33.00</td>\n",
       "</tr>\n",
       "<tr>\n",
       "<th id=\"T_9161e3dc_dbc0_11ea_9eb6_0242ac110003level0_row1\" class=\"row_heading level0 row1\" >1</th>\n",
       "<td id=\"T_9161e3dc_dbc0_11ea_9eb6_0242ac110003row1_col0\" class=\"data row1 col0\" >2</td>\n",
       "<td id=\"T_9161e3dc_dbc0_11ea_9eb6_0242ac110003row1_col1\" class=\"data row1 col1\" >1376.00</td>\n",
       "<td id=\"T_9161e3dc_dbc0_11ea_9eb6_0242ac110003row1_col2\" class=\"data row1 col2\" >339.00</td>\n",
       "<td id=\"T_9161e3dc_dbc0_11ea_9eb6_0242ac110003row1_col3\" class=\"data row1 col3\" >1037.00</td>\n",
       "<td id=\"T_9161e3dc_dbc0_11ea_9eb6_0242ac110003row1_col4\" class=\"data row1 col4\" >24.64</td>\n",
       "<td id=\"T_9161e3dc_dbc0_11ea_9eb6_0242ac110003row1_col5\" class=\"data row1 col5\" >960.00</td>\n",
       "<td id=\"T_9161e3dc_dbc0_11ea_9eb6_0242ac110003row1_col6\" class=\"data row1 col6\" >1792.00</td>\n",
       "<td id=\"T_9161e3dc_dbc0_11ea_9eb6_0242ac110003row1_col7\" class=\"data row1 col7\" >60.61</td>\n",
       "<td id=\"T_9161e3dc_dbc0_11ea_9eb6_0242ac110003row1_col8\" class=\"data row1 col8\" >14.72</td>\n",
       "<td id=\"T_9161e3dc_dbc0_11ea_9eb6_0242ac110003row1_col9\" class=\"data row1 col9\" >45.88</td>\n",
       "</tr>\n",
       "<tr>\n",
       "<th id=\"T_9161e3dc_dbc0_11ea_9eb6_0242ac110003level0_row2\" class=\"row_heading level0 row2\" >2</th>\n",
       "<td id=\"T_9161e3dc_dbc0_11ea_9eb6_0242ac110003row2_col0\" class=\"data row2 col0\" >3</td>\n",
       "<td id=\"T_9161e3dc_dbc0_11ea_9eb6_0242ac110003row2_col1\" class=\"data row2 col1\" >1376.00</td>\n",
       "<td id=\"T_9161e3dc_dbc0_11ea_9eb6_0242ac110003row2_col2\" class=\"data row2 col2\" >211.00</td>\n",
       "<td id=\"T_9161e3dc_dbc0_11ea_9eb6_0242ac110003row2_col3\" class=\"data row2 col3\" >1165.00</td>\n",
       "<td id=\"T_9161e3dc_dbc0_11ea_9eb6_0242ac110003row2_col4\" class=\"data row2 col4\" >15.33</td>\n",
       "<td id=\"T_9161e3dc_dbc0_11ea_9eb6_0242ac110003row2_col5\" class=\"data row2 col5\" >1171.00</td>\n",
       "<td id=\"T_9161e3dc_dbc0_11ea_9eb6_0242ac110003row2_col6\" class=\"data row2 col6\" >2957.00</td>\n",
       "<td id=\"T_9161e3dc_dbc0_11ea_9eb6_0242ac110003row2_col7\" class=\"data row2 col7\" >73.93</td>\n",
       "<td id=\"T_9161e3dc_dbc0_11ea_9eb6_0242ac110003row2_col8\" class=\"data row2 col8\" >24.30</td>\n",
       "<td id=\"T_9161e3dc_dbc0_11ea_9eb6_0242ac110003row2_col9\" class=\"data row2 col9\" >49.63</td>\n",
       "</tr>\n",
       "<tr>\n",
       "<th id=\"T_9161e3dc_dbc0_11ea_9eb6_0242ac110003level0_row3\" class=\"row_heading level0 row3\" >3</th>\n",
       "<td id=\"T_9161e3dc_dbc0_11ea_9eb6_0242ac110003row3_col0\" class=\"data row3 col0\" >4</td>\n",
       "<td id=\"T_9161e3dc_dbc0_11ea_9eb6_0242ac110003row3_col1\" class=\"data row3 col1\" >1376.00</td>\n",
       "<td id=\"T_9161e3dc_dbc0_11ea_9eb6_0242ac110003row3_col2\" class=\"data row3 col2\" >155.00</td>\n",
       "<td id=\"T_9161e3dc_dbc0_11ea_9eb6_0242ac110003row3_col3\" class=\"data row3 col3\" >1221.00</td>\n",
       "<td id=\"T_9161e3dc_dbc0_11ea_9eb6_0242ac110003row3_col4\" class=\"data row3 col4\" >11.26</td>\n",
       "<td id=\"T_9161e3dc_dbc0_11ea_9eb6_0242ac110003row3_col5\" class=\"data row3 col5\" >1326.00</td>\n",
       "<td id=\"T_9161e3dc_dbc0_11ea_9eb6_0242ac110003row3_col6\" class=\"data row3 col6\" >4178.00</td>\n",
       "<td id=\"T_9161e3dc_dbc0_11ea_9eb6_0242ac110003row3_col7\" class=\"data row3 col7\" >83.71</td>\n",
       "<td id=\"T_9161e3dc_dbc0_11ea_9eb6_0242ac110003row3_col8\" class=\"data row3 col8\" >34.33</td>\n",
       "<td id=\"T_9161e3dc_dbc0_11ea_9eb6_0242ac110003row3_col9\" class=\"data row3 col9\" >49.38</td>\n",
       "</tr>\n",
       "<tr>\n",
       "<th id=\"T_9161e3dc_dbc0_11ea_9eb6_0242ac110003level0_row4\" class=\"row_heading level0 row4\" >4</th>\n",
       "<td id=\"T_9161e3dc_dbc0_11ea_9eb6_0242ac110003row4_col0\" class=\"data row4 col0\" >5</td>\n",
       "<td id=\"T_9161e3dc_dbc0_11ea_9eb6_0242ac110003row4_col1\" class=\"data row4 col1\" >1375.00</td>\n",
       "<td id=\"T_9161e3dc_dbc0_11ea_9eb6_0242ac110003row4_col2\" class=\"data row4 col2\" >89.00</td>\n",
       "<td id=\"T_9161e3dc_dbc0_11ea_9eb6_0242ac110003row4_col3\" class=\"data row4 col3\" >1286.00</td>\n",
       "<td id=\"T_9161e3dc_dbc0_11ea_9eb6_0242ac110003row4_col4\" class=\"data row4 col4\" >6.47</td>\n",
       "<td id=\"T_9161e3dc_dbc0_11ea_9eb6_0242ac110003row4_col5\" class=\"data row4 col5\" >1415.00</td>\n",
       "<td id=\"T_9161e3dc_dbc0_11ea_9eb6_0242ac110003row4_col6\" class=\"data row4 col6\" >5464.00</td>\n",
       "<td id=\"T_9161e3dc_dbc0_11ea_9eb6_0242ac110003row4_col7\" class=\"data row4 col7\" >89.33</td>\n",
       "<td id=\"T_9161e3dc_dbc0_11ea_9eb6_0242ac110003row4_col8\" class=\"data row4 col8\" >44.90</td>\n",
       "<td id=\"T_9161e3dc_dbc0_11ea_9eb6_0242ac110003row4_col9\" class=\"data row4 col9\" >44.43</td>\n",
       "</tr>\n",
       "<tr>\n",
       "<th id=\"T_9161e3dc_dbc0_11ea_9eb6_0242ac110003level0_row5\" class=\"row_heading level0 row5\" >5</th>\n",
       "<td id=\"T_9161e3dc_dbc0_11ea_9eb6_0242ac110003row5_col0\" class=\"data row5 col0\" >6</td>\n",
       "<td id=\"T_9161e3dc_dbc0_11ea_9eb6_0242ac110003row5_col1\" class=\"data row5 col1\" >1375.00</td>\n",
       "<td id=\"T_9161e3dc_dbc0_11ea_9eb6_0242ac110003row5_col2\" class=\"data row5 col2\" >68.00</td>\n",
       "<td id=\"T_9161e3dc_dbc0_11ea_9eb6_0242ac110003row5_col3\" class=\"data row5 col3\" >1307.00</td>\n",
       "<td id=\"T_9161e3dc_dbc0_11ea_9eb6_0242ac110003row5_col4\" class=\"data row5 col4\" >4.95</td>\n",
       "<td id=\"T_9161e3dc_dbc0_11ea_9eb6_0242ac110003row5_col5\" class=\"data row5 col5\" >1483.00</td>\n",
       "<td id=\"T_9161e3dc_dbc0_11ea_9eb6_0242ac110003row5_col6\" class=\"data row5 col6\" >6771.00</td>\n",
       "<td id=\"T_9161e3dc_dbc0_11ea_9eb6_0242ac110003row5_col7\" class=\"data row5 col7\" >93.62</td>\n",
       "<td id=\"T_9161e3dc_dbc0_11ea_9eb6_0242ac110003row5_col8\" class=\"data row5 col8\" >55.64</td>\n",
       "<td id=\"T_9161e3dc_dbc0_11ea_9eb6_0242ac110003row5_col9\" class=\"data row5 col9\" >37.99</td>\n",
       "</tr>\n",
       "<tr>\n",
       "<th id=\"T_9161e3dc_dbc0_11ea_9eb6_0242ac110003level0_row6\" class=\"row_heading level0 row6\" >6</th>\n",
       "<td id=\"T_9161e3dc_dbc0_11ea_9eb6_0242ac110003row6_col0\" class=\"data row6 col0\" >7</td>\n",
       "<td id=\"T_9161e3dc_dbc0_11ea_9eb6_0242ac110003row6_col1\" class=\"data row6 col1\" >1375.00</td>\n",
       "<td id=\"T_9161e3dc_dbc0_11ea_9eb6_0242ac110003row6_col2\" class=\"data row6 col2\" >40.00</td>\n",
       "<td id=\"T_9161e3dc_dbc0_11ea_9eb6_0242ac110003row6_col3\" class=\"data row6 col3\" >1335.00</td>\n",
       "<td id=\"T_9161e3dc_dbc0_11ea_9eb6_0242ac110003row6_col4\" class=\"data row6 col4\" >2.91</td>\n",
       "<td id=\"T_9161e3dc_dbc0_11ea_9eb6_0242ac110003row6_col5\" class=\"data row6 col5\" >1523.00</td>\n",
       "<td id=\"T_9161e3dc_dbc0_11ea_9eb6_0242ac110003row6_col6\" class=\"data row6 col6\" >8106.00</td>\n",
       "<td id=\"T_9161e3dc_dbc0_11ea_9eb6_0242ac110003row6_col7\" class=\"data row6 col7\" >96.15</td>\n",
       "<td id=\"T_9161e3dc_dbc0_11ea_9eb6_0242ac110003row6_col8\" class=\"data row6 col8\" >66.61</td>\n",
       "<td id=\"T_9161e3dc_dbc0_11ea_9eb6_0242ac110003row6_col9\" class=\"data row6 col9\" >29.54</td>\n",
       "</tr>\n",
       "<tr>\n",
       "<th id=\"T_9161e3dc_dbc0_11ea_9eb6_0242ac110003level0_row7\" class=\"row_heading level0 row7\" >7</th>\n",
       "<td id=\"T_9161e3dc_dbc0_11ea_9eb6_0242ac110003row7_col0\" class=\"data row7 col0\" >8</td>\n",
       "<td id=\"T_9161e3dc_dbc0_11ea_9eb6_0242ac110003row7_col1\" class=\"data row7 col1\" >1375.00</td>\n",
       "<td id=\"T_9161e3dc_dbc0_11ea_9eb6_0242ac110003row7_col2\" class=\"data row7 col2\" >29.00</td>\n",
       "<td id=\"T_9161e3dc_dbc0_11ea_9eb6_0242ac110003row7_col3\" class=\"data row7 col3\" >1346.00</td>\n",
       "<td id=\"T_9161e3dc_dbc0_11ea_9eb6_0242ac110003row7_col4\" class=\"data row7 col4\" >2.11</td>\n",
       "<td id=\"T_9161e3dc_dbc0_11ea_9eb6_0242ac110003row7_col5\" class=\"data row7 col5\" >1552.00</td>\n",
       "<td id=\"T_9161e3dc_dbc0_11ea_9eb6_0242ac110003row7_col6\" class=\"data row7 col6\" >9452.00</td>\n",
       "<td id=\"T_9161e3dc_dbc0_11ea_9eb6_0242ac110003row7_col7\" class=\"data row7 col7\" >97.98</td>\n",
       "<td id=\"T_9161e3dc_dbc0_11ea_9eb6_0242ac110003row7_col8\" class=\"data row7 col8\" >77.67</td>\n",
       "<td id=\"T_9161e3dc_dbc0_11ea_9eb6_0242ac110003row7_col9\" class=\"data row7 col9\" >20.31</td>\n",
       "</tr>\n",
       "<tr>\n",
       "<th id=\"T_9161e3dc_dbc0_11ea_9eb6_0242ac110003level0_row8\" class=\"row_heading level0 row8\" >8</th>\n",
       "<td id=\"T_9161e3dc_dbc0_11ea_9eb6_0242ac110003row8_col0\" class=\"data row8 col0\" >9</td>\n",
       "<td id=\"T_9161e3dc_dbc0_11ea_9eb6_0242ac110003row8_col1\" class=\"data row8 col1\" >1375.00</td>\n",
       "<td id=\"T_9161e3dc_dbc0_11ea_9eb6_0242ac110003row8_col2\" class=\"data row8 col2\" >26.00</td>\n",
       "<td id=\"T_9161e3dc_dbc0_11ea_9eb6_0242ac110003row8_col3\" class=\"data row8 col3\" >1349.00</td>\n",
       "<td id=\"T_9161e3dc_dbc0_11ea_9eb6_0242ac110003row8_col4\" class=\"data row8 col4\" >1.89</td>\n",
       "<td id=\"T_9161e3dc_dbc0_11ea_9eb6_0242ac110003row8_col5\" class=\"data row8 col5\" >1578.00</td>\n",
       "<td id=\"T_9161e3dc_dbc0_11ea_9eb6_0242ac110003row8_col6\" class=\"data row8 col6\" >10801.00</td>\n",
       "<td id=\"T_9161e3dc_dbc0_11ea_9eb6_0242ac110003row8_col7\" class=\"data row8 col7\" >99.62</td>\n",
       "<td id=\"T_9161e3dc_dbc0_11ea_9eb6_0242ac110003row8_col8\" class=\"data row8 col8\" >88.75</td>\n",
       "<td id=\"T_9161e3dc_dbc0_11ea_9eb6_0242ac110003row8_col9\" class=\"data row8 col9\" >10.87</td>\n",
       "</tr>\n",
       "<tr>\n",
       "<th id=\"T_9161e3dc_dbc0_11ea_9eb6_0242ac110003level0_row9\" class=\"row_heading level0 row9\" >9</th>\n",
       "<td id=\"T_9161e3dc_dbc0_11ea_9eb6_0242ac110003row9_col0\" class=\"data row9 col0\" >10</td>\n",
       "<td id=\"T_9161e3dc_dbc0_11ea_9eb6_0242ac110003row9_col1\" class=\"data row9 col1\" >1375.00</td>\n",
       "<td id=\"T_9161e3dc_dbc0_11ea_9eb6_0242ac110003row9_col2\" class=\"data row9 col2\" >6.00</td>\n",
       "<td id=\"T_9161e3dc_dbc0_11ea_9eb6_0242ac110003row9_col3\" class=\"data row9 col3\" >1369.00</td>\n",
       "<td id=\"T_9161e3dc_dbc0_11ea_9eb6_0242ac110003row9_col4\" class=\"data row9 col4\" >0.44</td>\n",
       "<td id=\"T_9161e3dc_dbc0_11ea_9eb6_0242ac110003row9_col5\" class=\"data row9 col5\" >1584.00</td>\n",
       "<td id=\"T_9161e3dc_dbc0_11ea_9eb6_0242ac110003row9_col6\" class=\"data row9 col6\" >12170.00</td>\n",
       "<td id=\"T_9161e3dc_dbc0_11ea_9eb6_0242ac110003row9_col7\" class=\"data row9 col7\" >100.00</td>\n",
       "<td id=\"T_9161e3dc_dbc0_11ea_9eb6_0242ac110003row9_col8\" class=\"data row9 col8\" >100.00</td>\n",
       "<td id=\"T_9161e3dc_dbc0_11ea_9eb6_0242ac110003row9_col9\" class=\"data row9 col9\" >0.00</td>\n",
       "</tr>\n",
       "</tbody></table>"
      ],
      "text/plain": [
       "<IPython.core.display.HTML object>"
      ]
     },
     "execution_count": 6,
     "metadata": {},
     "output_type": "execute_result"
    }
   ],
   "source": [
    "plot_decile_test = decile_labels(test_deciles, 'label', color='skyblue')\n",
    "plot_pandas_style(plot_decile_test)"
   ]
  },
  {
   "cell_type": "markdown",
   "metadata": {},
   "source": [
    "# Actual vs Predicted, Gains and Lift chart"
   ]
  },
  {
   "cell_type": "code",
   "execution_count": 7,
   "metadata": {},
   "outputs": [],
   "source": [
    "import matplotlib.pyplot as plt\n",
    "\n",
    "def plots(agg1,target,type):\n",
    "\n",
    "    plt.figure(1,figsize=(20, 5))\n",
    "\n",
    "    plt.subplot(131)\n",
    "    plt.plot(agg1['DECILE'],agg1['ACTUAL'],label='Actual')\n",
    "    plt.plot(agg1['DECILE'],agg1['PRED'],label='Pred')\n",
    "    plt.xticks(range(10,110,10))\n",
    "    plt.legend(fontsize=15)\n",
    "    plt.grid(True)\n",
    "    plt.title('Actual vs Predicted', fontsize=20)\n",
    "    plt.xlabel(\"Population %\",fontsize=15)\n",
    "    plt.ylabel(str(target) + \" \" + str(type) + \" %\",fontsize=15)\n",
    "\n",
    "    plt.subplot(132)\n",
    "    X = agg1['DECILE'].tolist()\n",
    "    X.append(0)\n",
    "    Y = agg1['DIST_TAR'].tolist()\n",
    "    Y.append(0)\n",
    "    plt.plot(sorted(X),sorted(Y))\n",
    "    plt.plot([0, 100], [0, 100],'r--')\n",
    "    plt.xticks(range(0,110,10))\n",
    "    plt.yticks(range(0,110,10))\n",
    "    plt.grid(True)\n",
    "    plt.title('Gains Chart', fontsize=20)\n",
    "    plt.xlabel(\"Population %\",fontsize=15)\n",
    "    plt.ylabel(str(target) + str(\" DISTRIBUTION\") + \" %\",fontsize=15)\n",
    "    plt.annotate(round(agg1[agg1['DECILE'] == 30].DIST_TAR.item(),2),xy=[30,30], \n",
    "            xytext=(25, agg1[agg1['DECILE'] == 30].DIST_TAR.item() + 5),fontsize = 13)\n",
    "    plt.annotate(round(agg1[agg1['DECILE'] == 50].DIST_TAR.item(),2),xy=[50,50], \n",
    "            xytext=(45, agg1[agg1['DECILE'] == 50].DIST_TAR.item() + 5),fontsize = 13)\n",
    "\n",
    "    plt.subplot(133)\n",
    "    plt.plot(agg1['DECILE'],agg1['LIFT'])\n",
    "    plt.xticks(range(10,110,10))\n",
    "    plt.grid(True)\n",
    "    plt.title('Lift Chart', fontsize=20)\n",
    "    plt.xlabel(\"Population %\",fontsize=15)\n",
    "    plt.ylabel(\"Lift\",fontsize=15)\n",
    "\n",
    "    plt.tight_layout()"
   ]
  },
  {
   "cell_type": "code",
   "execution_count": 8,
   "metadata": {},
   "outputs": [],
   "source": [
    "def gains(data, decile_df, decile_by, target, score):\n",
    "    \n",
    "    agg1 = pd.DataFrame({},index=[])\n",
    "    agg1 = data.groupby(decile_by).agg(F.avg(target).alias('ACTUAL')).toPandas()\n",
    "    score_agg = data.groupby(decile_by).agg(F.avg(score).alias('PRED')).toPandas()\n",
    "    agg1 = agg1.merge(score_agg, on=decile_by, how='inner').merge(decile_df, on=decile_by, how='inner')    \n",
    "    agg1 = agg1.sort_values(by=decile_by, ascending=True)\n",
    "    agg1 = agg1[[decile_by, 'ACTUAL', 'PRED', 'target_dist']]\n",
    "    agg1 = agg1.rename(columns={'target_dist':'DIST_TAR', 'deciles': 'DECILE'})\n",
    "    decile_by = 'DECILE'\n",
    "    agg1[decile_by] = agg1[decile_by]*10\n",
    "    agg1['LIFT'] = agg1['DIST_TAR']/agg1[decile_by]\n",
    "    agg1.columns = [x.upper() for x in agg1.columns]\n",
    "    plots(agg1,target,'Distribution')"
   ]
  },
  {
   "cell_type": "code",
   "execution_count": 11,
   "metadata": {},
   "outputs": [
    {
     "data": {
      "image/png": "[encoded data removed]",
      "text/plain": [
       "<Figure size 1440x360 with 3 Axes>"
      ]
     },
     "metadata": {
      "needs_background": "light"
     },
     "output_type": "display_data"
    }
   ],
   "source": [
    "gains(pred_train, train_deciles, 'deciles', 'label','probability')"
   ]
  },
  {
   "cell_type": "code",
   "execution_count": 12,
   "metadata": {},
   "outputs": [
    {
     "data": {
      "image/png": "[encoded data removed]",
      "text/plain": [
       "<Figure size 1440x360 with 3 Axes>"
      ]
     },
     "metadata": {
      "needs_background": "light"
     },
     "output_type": "display_data"
    }
   ],
   "source": [
    "gains(pred_test, test_deciles, 'deciles', 'label','probability')"
   ]
  },
  {
   "cell_type": "code",
   "execution_count": null,
   "metadata": {},
   "outputs": [],
   "source": []
  },
  {
   "cell_type": "code",
   "execution_count": null,
   "metadata": {},
   "outputs": [],
   "source": []
  },
  {
   "cell_type": "code",
   "execution_count": null,
   "metadata": {},
   "outputs": [],
   "source": []
  },
  {
   "cell_type": "code",
   "execution_count": null,
   "metadata": {},
   "outputs": [],
   "source": []
  },
  {
   "cell_type": "code",
   "execution_count": null,
   "metadata": {},
   "outputs": [],
   "source": []
  }
 ],
 "metadata": {
  "kernelspec": {
   "display_name": "Python 3",
   "language": "python",
   "name": "python3"
  },
  "language_info": {
   "codemirror_mode": {
    "name": "ipython",
    "version": 3
   },
   "file_extension": ".py",
   "mimetype": "text/x-python",
   "name": "python",
   "nbconvert_exporter": "python",
   "pygments_lexer": "ipython3",
   "version": "3.7.6"
  }
 },
 "nbformat": 4,
 "nbformat_minor": 4
}
